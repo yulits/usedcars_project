{
 "cells": [
  {
   "cell_type": "markdown",
   "metadata": {},
   "source": [
    "\n",
    "<img src=\"https://article.images.consumerreports.org/c_lfill,w_1920,ar_32:11/prod/content/dam/CRO%20Images%202017/Cars/March/CR-Cars-Hero-Used-Car-Sales-03-17\">\n",
    "\n"
   ]
  },
  {
   "cell_type": "markdown",
   "metadata": {},
   "source": [
    "## <center> Used car price prediction </center>\n",
    "### <center> Data analysis and predictive model building </center>\n",
    "### <center> by Yuliya Klimushina, 2018"
   ]
  },
  {
   "cell_type": "markdown",
   "metadata": {},
   "source": [
    "The data used in this project can be downloaded [here](https://www.kaggle.com/orgesleka/used-cars-database). The dataset contains information about used cars for sale on Ebay in March 2015-April 2016. The data is presented in German. The purpose of the study: to create a model that predicts the price of a car in the secondary market. This model can help:\n",
    "\n",
    "- the owner of a car do not to sell it too cheap;\n",
    "- the buyer do not overpay;\n",
    "- the dealer who is engaged in reselling cars determine how profitable a particular offer is.\n",
    "\n",
    "The same model can be used to predict another target value such a period within a car can be sold. Unfortunatelly there is no enough data to take into account seasonality of demand. For that type of problem it would be a good idea to use time series.     "
   ]
  },
  {
   "cell_type": "code",
   "execution_count": 1,
   "metadata": {},
   "outputs": [],
   "source": [
    "import numpy as np\n",
    "import pandas as pd\n",
    "import seaborn as sns\n",
    "from matplotlib import pyplot as plt\n",
    "%matplotlib inline\n",
    "from sklearn.linear_model import LinearRegression, Ridge, Lasso\n",
    "from sklearn.ensemble import RandomForestRegressor, GradientBoostingRegressor\n",
    "from sklearn.model_selection import cross_val_score, train_test_split\n",
    "from sklearn.preprocessing import StandardScaler, PolynomialFeatures, OrdinalEncoder, LabelEncoder\n",
    "from sklearn.feature_extraction.text import CountVectorizer\n",
    "from sklearn.metrics import mean_absolute_error, r2_score\n",
    "from xgboost import XGBRegressor \n",
    "from scipy.sparse import csr_matrix, hstack\n",
    "import warnings\n",
    "warnings.filterwarnings('ignore')"
   ]
  },
  {
   "cell_type": "code",
   "execution_count": 2,
   "metadata": {},
   "outputs": [],
   "source": [
    "RANDOM_SEED = 17\n",
    "sns.set_palette('Blues_d')"
   ]
  },
  {
   "cell_type": "markdown",
   "metadata": {},
   "source": [
    "### Dataset and features description"
   ]
  },
  {
   "cell_type": "markdown",
   "metadata": {},
   "source": [
    "#### Features:\n",
    "- **dateCrawled**: date and time when the ad was first viewed \n",
    "- **name** : the name of the car (formed from the name of the brand, model and other information)\n",
    "- **seller** : who sells ('privat' - private person, 'gewerblich' - dealer)\n",
    "- **offerType** : offer type ('Angebot' - sale, 'Gesuch' - purchase)\n",
    "- **abtest** : A / B testing is a tactic used by marketing manager to find out which ad titles, text, images will work best for the target audience.\n",
    "- **vehicleType**: car type ('coupe', 'suv', 'kleinwagen', 'limousine', 'cabrio', 'bus', 'kombi', 'andere' - 'coupe', 'SUV', 'mini-auto', 'sedan', 'convertible', 'bus', 'Combi', 'other', respectively)\n",
    "- **yearOfRegistration** : year of the first registration\n",
    "- **gearbox**: gearbox type ('manuell' - manual, 'automatik' - automatic)\n",
    "- **powerPS**: horsepower\n",
    "- **model**: model\n",
    "- **kilometer**: mileage in kilometers\n",
    "- **monthOfRegistration** : month of the first registration\n",
    "- **fuelType**: fuel type\n",
    "- **brand**: brand\n",
    "- **notRepairedDamage** : is there any damage that needs to be repaired ('ja' - Yes, 'nein' - no)\n",
    "- **dateCreated** : date and time when the ad was created on eBay\n",
    "- **nrOfPictures** : number of photos of the car (this field contains zeros everywhere and is therefore useless)\n",
    "- **postalCode**: postal code\n",
    "- **lastSeenOnline** : date and time when the ad was last viewed\n",
    "\n",
    "Target variable: **price** - car price."
   ]
  },
  {
   "cell_type": "markdown",
   "metadata": {},
   "source": [
    "### Primary analysis and processing of features"
   ]
  },
  {
   "cell_type": "markdown",
   "metadata": {},
   "source": [
    "Let's read the data"
   ]
  },
  {
   "cell_type": "code",
   "execution_count": 3,
   "metadata": {},
   "outputs": [
    {
     "data": {
      "text/html": [
       "<div>\n",
       "<style scoped>\n",
       "    .dataframe tbody tr th:only-of-type {\n",
       "        vertical-align: middle;\n",
       "    }\n",
       "\n",
       "    .dataframe tbody tr th {\n",
       "        vertical-align: top;\n",
       "    }\n",
       "\n",
       "    .dataframe thead th {\n",
       "        text-align: right;\n",
       "    }\n",
       "</style>\n",
       "<table border=\"1\" class=\"dataframe\">\n",
       "  <thead>\n",
       "    <tr style=\"text-align: right;\">\n",
       "      <th></th>\n",
       "      <th>dateCrawled</th>\n",
       "      <th>name</th>\n",
       "      <th>seller</th>\n",
       "      <th>offerType</th>\n",
       "      <th>price</th>\n",
       "      <th>abtest</th>\n",
       "      <th>vehicleType</th>\n",
       "      <th>yearOfRegistration</th>\n",
       "      <th>gearbox</th>\n",
       "      <th>powerPS</th>\n",
       "      <th>model</th>\n",
       "      <th>kilometer</th>\n",
       "      <th>monthOfRegistration</th>\n",
       "      <th>fuelType</th>\n",
       "      <th>brand</th>\n",
       "      <th>notRepairedDamage</th>\n",
       "      <th>dateCreated</th>\n",
       "      <th>nrOfPictures</th>\n",
       "      <th>postalCode</th>\n",
       "      <th>lastSeen</th>\n",
       "    </tr>\n",
       "  </thead>\n",
       "  <tbody>\n",
       "    <tr>\n",
       "      <th>0</th>\n",
       "      <td>2016-03-24 11:52:17</td>\n",
       "      <td>Golf_3_1.6</td>\n",
       "      <td>privat</td>\n",
       "      <td>Angebot</td>\n",
       "      <td>480</td>\n",
       "      <td>test</td>\n",
       "      <td>NaN</td>\n",
       "      <td>1993</td>\n",
       "      <td>manuell</td>\n",
       "      <td>0</td>\n",
       "      <td>golf</td>\n",
       "      <td>150000</td>\n",
       "      <td>0</td>\n",
       "      <td>benzin</td>\n",
       "      <td>volkswagen</td>\n",
       "      <td>NaN</td>\n",
       "      <td>2016-03-24</td>\n",
       "      <td>0</td>\n",
       "      <td>70435</td>\n",
       "      <td>2016-04-07 03:16:57</td>\n",
       "    </tr>\n",
       "    <tr>\n",
       "      <th>1</th>\n",
       "      <td>2016-03-24 10:58:45</td>\n",
       "      <td>A5_Sportback_2.7_Tdi</td>\n",
       "      <td>privat</td>\n",
       "      <td>Angebot</td>\n",
       "      <td>18300</td>\n",
       "      <td>test</td>\n",
       "      <td>coupe</td>\n",
       "      <td>2011</td>\n",
       "      <td>manuell</td>\n",
       "      <td>190</td>\n",
       "      <td>NaN</td>\n",
       "      <td>125000</td>\n",
       "      <td>5</td>\n",
       "      <td>diesel</td>\n",
       "      <td>audi</td>\n",
       "      <td>ja</td>\n",
       "      <td>2016-03-24</td>\n",
       "      <td>0</td>\n",
       "      <td>66954</td>\n",
       "      <td>2016-04-07 01:46:50</td>\n",
       "    </tr>\n",
       "    <tr>\n",
       "      <th>2</th>\n",
       "      <td>2016-03-14 12:52:21</td>\n",
       "      <td>Jeep_Grand_Cherokee_\"Overland\"</td>\n",
       "      <td>privat</td>\n",
       "      <td>Angebot</td>\n",
       "      <td>9800</td>\n",
       "      <td>test</td>\n",
       "      <td>suv</td>\n",
       "      <td>2004</td>\n",
       "      <td>automatik</td>\n",
       "      <td>163</td>\n",
       "      <td>grand</td>\n",
       "      <td>125000</td>\n",
       "      <td>8</td>\n",
       "      <td>diesel</td>\n",
       "      <td>jeep</td>\n",
       "      <td>NaN</td>\n",
       "      <td>2016-03-14</td>\n",
       "      <td>0</td>\n",
       "      <td>90480</td>\n",
       "      <td>2016-04-05 12:47:46</td>\n",
       "    </tr>\n",
       "    <tr>\n",
       "      <th>3</th>\n",
       "      <td>2016-03-17 16:54:04</td>\n",
       "      <td>GOLF_4_1_4__3TÜRER</td>\n",
       "      <td>privat</td>\n",
       "      <td>Angebot</td>\n",
       "      <td>1500</td>\n",
       "      <td>test</td>\n",
       "      <td>kleinwagen</td>\n",
       "      <td>2001</td>\n",
       "      <td>manuell</td>\n",
       "      <td>75</td>\n",
       "      <td>golf</td>\n",
       "      <td>150000</td>\n",
       "      <td>6</td>\n",
       "      <td>benzin</td>\n",
       "      <td>volkswagen</td>\n",
       "      <td>nein</td>\n",
       "      <td>2016-03-17</td>\n",
       "      <td>0</td>\n",
       "      <td>91074</td>\n",
       "      <td>2016-03-17 17:40:17</td>\n",
       "    </tr>\n",
       "    <tr>\n",
       "      <th>4</th>\n",
       "      <td>2016-03-31 17:25:20</td>\n",
       "      <td>Skoda_Fabia_1.4_TDI_PD_Classic</td>\n",
       "      <td>privat</td>\n",
       "      <td>Angebot</td>\n",
       "      <td>3600</td>\n",
       "      <td>test</td>\n",
       "      <td>kleinwagen</td>\n",
       "      <td>2008</td>\n",
       "      <td>manuell</td>\n",
       "      <td>69</td>\n",
       "      <td>fabia</td>\n",
       "      <td>90000</td>\n",
       "      <td>7</td>\n",
       "      <td>diesel</td>\n",
       "      <td>skoda</td>\n",
       "      <td>nein</td>\n",
       "      <td>2016-03-31</td>\n",
       "      <td>0</td>\n",
       "      <td>60437</td>\n",
       "      <td>2016-04-06 10:17:21</td>\n",
       "    </tr>\n",
       "  </tbody>\n",
       "</table>\n",
       "</div>"
      ],
      "text/plain": [
       "          dateCrawled                            name  seller offerType  \\\n",
       "0 2016-03-24 11:52:17                      Golf_3_1.6  privat   Angebot   \n",
       "1 2016-03-24 10:58:45            A5_Sportback_2.7_Tdi  privat   Angebot   \n",
       "2 2016-03-14 12:52:21  Jeep_Grand_Cherokee_\"Overland\"  privat   Angebot   \n",
       "3 2016-03-17 16:54:04              GOLF_4_1_4__3TÜRER  privat   Angebot   \n",
       "4 2016-03-31 17:25:20  Skoda_Fabia_1.4_TDI_PD_Classic  privat   Angebot   \n",
       "\n",
       "   price abtest vehicleType  yearOfRegistration    gearbox  powerPS  model  \\\n",
       "0    480   test         NaN                1993    manuell        0   golf   \n",
       "1  18300   test       coupe                2011    manuell      190    NaN   \n",
       "2   9800   test         suv                2004  automatik      163  grand   \n",
       "3   1500   test  kleinwagen                2001    manuell       75   golf   \n",
       "4   3600   test  kleinwagen                2008    manuell       69  fabia   \n",
       "\n",
       "   kilometer  monthOfRegistration fuelType       brand notRepairedDamage  \\\n",
       "0     150000                    0   benzin  volkswagen               NaN   \n",
       "1     125000                    5   diesel        audi                ja   \n",
       "2     125000                    8   diesel        jeep               NaN   \n",
       "3     150000                    6   benzin  volkswagen              nein   \n",
       "4      90000                    7   diesel       skoda              nein   \n",
       "\n",
       "  dateCreated  nrOfPictures  postalCode            lastSeen  \n",
       "0  2016-03-24             0       70435 2016-04-07 03:16:57  \n",
       "1  2016-03-24             0       66954 2016-04-07 01:46:50  \n",
       "2  2016-03-14             0       90480 2016-04-05 12:47:46  \n",
       "3  2016-03-17             0       91074 2016-03-17 17:40:17  \n",
       "4  2016-03-31             0       60437 2016-04-06 10:17:21  "
      ]
     },
     "execution_count": 3,
     "metadata": {},
     "output_type": "execute_result"
    }
   ],
   "source": [
    "parse_dates = ['dateCrawled', 'dateCreated', 'lastSeen']\n",
    "df = pd.read_csv('data/autos.csv', sep=',', parse_dates=parse_dates, encoding = 'ISO-8859-1')\n",
    "df.head()"
   ]
  },
  {
   "cell_type": "code",
   "execution_count": 4,
   "metadata": {},
   "outputs": [
    {
     "data": {
      "text/plain": [
       "(371528, 20)"
      ]
     },
     "execution_count": 4,
     "metadata": {},
     "output_type": "execute_result"
    }
   ],
   "source": [
    "df.shape"
   ]
  },
  {
   "cell_type": "code",
   "execution_count": 5,
   "metadata": {},
   "outputs": [
    {
     "name": "stdout",
     "output_type": "stream",
     "text": [
      "<class 'pandas.core.frame.DataFrame'>\n",
      "RangeIndex: 371528 entries, 0 to 371527\n",
      "Data columns (total 20 columns):\n",
      " #   Column               Non-Null Count   Dtype         \n",
      "---  ------               --------------   -----         \n",
      " 0   dateCrawled          371528 non-null  datetime64[ns]\n",
      " 1   name                 371528 non-null  object        \n",
      " 2   seller               371528 non-null  object        \n",
      " 3   offerType            371528 non-null  object        \n",
      " 4   price                371528 non-null  int64         \n",
      " 5   abtest               371528 non-null  object        \n",
      " 6   vehicleType          333659 non-null  object        \n",
      " 7   yearOfRegistration   371528 non-null  int64         \n",
      " 8   gearbox              351319 non-null  object        \n",
      " 9   powerPS              371528 non-null  int64         \n",
      " 10  model                351044 non-null  object        \n",
      " 11  kilometer            371528 non-null  int64         \n",
      " 12  monthOfRegistration  371528 non-null  int64         \n",
      " 13  fuelType             338142 non-null  object        \n",
      " 14  brand                371528 non-null  object        \n",
      " 15  notRepairedDamage    299468 non-null  object        \n",
      " 16  dateCreated          371528 non-null  datetime64[ns]\n",
      " 17  nrOfPictures         371528 non-null  int64         \n",
      " 18  postalCode           371528 non-null  int64         \n",
      " 19  lastSeen             371528 non-null  datetime64[ns]\n",
      "dtypes: datetime64[ns](3), int64(7), object(10)\n",
      "memory usage: 56.7+ MB\n"
     ]
    }
   ],
   "source": [
    "df.info()"
   ]
  },
  {
   "cell_type": "markdown",
   "metadata": {},
   "source": [
    "So, we have 371528 samples. There are some features that have missing values, let's deal with it. Also let's remove a non-informative feature **abtest**. This is an indicator used by Ebay to determine the effectiveness of advertising. </br> We will consider feature **yearOfRegistration** as the year of the car since we do not have a specific feature for it. So, the feature **monthOfRegistration** useless for our task."
   ]
  },
  {
   "cell_type": "markdown",
   "metadata": {},
   "source": [
    "We're only interested in selling ads, so let's delete the purchase lines and the **offerType** feature.<br/>\n",
    "The **vehicle Type** feature has missing values. We can replace them with a value that indicates \"other\" (andere)<br>Samples with licks in **gearbox** will be deleted because this characteristic significantly affects the price and there is no easy way to fill it in correctly."
   ]
  },
  {
   "cell_type": "code",
   "execution_count": 6,
   "metadata": {},
   "outputs": [],
   "source": [
    "df.drop([ 'abtest', 'monthOfRegistration'], axis=1, inplace=True)\n",
    "df = df[df['offerType'] != 'Gesuch'].drop('offerType', axis=1)\n",
    "\n",
    "df['vehicleType'].fillna(axis=0, value='andere', inplace=True)\n",
    "\n",
    "df.dropna(axis=0, subset=['gearbox'], inplace=True)"
   ]
  },
  {
   "cell_type": "markdown",
   "metadata": {},
   "source": [
    "Let's take a look at the **brand** feature."
   ]
  },
  {
   "cell_type": "code",
   "execution_count": 7,
   "metadata": {},
   "outputs": [
    {
     "data": {
      "text/plain": [
       "array(['volkswagen', 'audi', 'jeep', 'skoda', 'bmw', 'peugeot', 'ford',\n",
       "       'mazda', 'nissan', 'renault', 'mercedes_benz', 'opel', 'seat',\n",
       "       'citroen', 'honda', 'fiat', 'mini', 'smart', 'hyundai',\n",
       "       'sonstige_autos', 'alfa_romeo', 'subaru', 'volvo', 'mitsubishi',\n",
       "       'kia', 'suzuki', 'lancia', 'porsche', 'toyota', 'chevrolet',\n",
       "       'dacia', 'daihatsu', 'saab', 'chrysler', 'jaguar', 'daewoo',\n",
       "       'rover', 'land_rover', 'trabant', 'lada'], dtype=object)"
      ]
     },
     "execution_count": 7,
     "metadata": {},
     "output_type": "execute_result"
    }
   ],
   "source": [
    "df['brand'].unique()"
   ]
  },
  {
   "cell_type": "markdown",
   "metadata": {},
   "source": [
    "\"sonstige_autos\" means \"other cars\". There are few rows with such values, and the analysis shows that these are old and/or rare cars. We do not have enough information to make predictions. Also the **model** feature is not filled in, so we will delete such rows."
   ]
  },
  {
   "cell_type": "markdown",
   "metadata": {},
   "source": [
    "There are 13433 missing values in the **model** feature, but **brand** is always filled in. Given that **name** often contains information about the brand and model, let's pull the model from it. The algorithm simply split **name** using an underscore character as a separator and check if the first element of the sequence equal to **brand**. If so than it takes the second element and assign it to **model**. \n",
    "Exp: If **name** is 'Skoda_Fabia_1.4_TDI_PD_Classic' and **brand** is 'skoda' than the  algorithm extracts 'fabia' as a value for **model**. After that **name** feature will be deleted."
   ]
  },
  {
   "cell_type": "code",
   "execution_count": 8,
   "metadata": {},
   "outputs": [],
   "source": [
    "df = df.loc[df['brand'] != \"sonstige_autos\"]"
   ]
  },
  {
   "cell_type": "code",
   "execution_count": 9,
   "metadata": {},
   "outputs": [],
   "source": [
    "model_nan_idx = df[pd.isnull(df[\"model\"])].index\n",
    "def model_extractor(x):\n",
    "    x = x.apply(str.lower)\n",
    "    name = x['name'].split(sep='_')\n",
    "    try:\n",
    "        if name[0] == x[\"brand\"]:\n",
    "            return name[1]\n",
    "        else: return np.nan\n",
    "    except:\n",
    "        return np.nan\n",
    "\n",
    "df.loc[model_nan_idx, 'model'] = df.loc[model_nan_idx][['name', 'brand']].apply(model_extractor, axis=1) \n",
    "df.dropna(axis=0, subset=['model'], inplace=True)\n",
    "df.drop('name', axis=1, inplace=True)"
   ]
  },
  {
   "cell_type": "markdown",
   "metadata": {},
   "source": [
    "Let's take a look at the **fuelType** feature. We'll replace missing values with 'andere'('other'). "
   ]
  },
  {
   "cell_type": "code",
   "execution_count": 10,
   "metadata": {
    "scrolled": true
   },
   "outputs": [
    {
     "data": {
      "text/plain": [
       "benzin     211809\n",
       "diesel     102533\n",
       "NaN         22228\n",
       "lpg          5002\n",
       "cng           546\n",
       "hybrid        241\n",
       "andere        114\n",
       "elektro        66\n",
       "Name: fuelType, dtype: int64"
      ]
     },
     "execution_count": 10,
     "metadata": {},
     "output_type": "execute_result"
    }
   ],
   "source": [
    "df['fuelType'].value_counts(dropna=False)"
   ]
  },
  {
   "cell_type": "code",
   "execution_count": 11,
   "metadata": {},
   "outputs": [],
   "source": [
    "df['fuelType'].fillna(axis=0, value='andere', inplace=True)"
   ]
  },
  {
   "cell_type": "markdown",
   "metadata": {},
   "source": [
    "The **notRepairedDamage** attribute has 56335 missing values. We can make a big assumption that if the owner do not mention the damage in the ad then he sells it as not requiring repair. Let's fill in missing values with 'nein' and convert the feature to a binary format."
   ]
  },
  {
   "cell_type": "code",
   "execution_count": 12,
   "metadata": {},
   "outputs": [],
   "source": [
    "df['notRepairedDamage'].fillna(value='nein', inplace=True)\n",
    "df['notRepairedDamage'] = df['notRepairedDamage'].map({'ja': 1, 'nein': 0}).astype('int64')"
   ]
  },
  {
   "cell_type": "markdown",
   "metadata": {},
   "source": [
    "Let's look at the statistics."
   ]
  },
  {
   "cell_type": "code",
   "execution_count": 13,
   "metadata": {},
   "outputs": [
    {
     "data": {
      "text/html": [
       "<div>\n",
       "<style scoped>\n",
       "    .dataframe tbody tr th:only-of-type {\n",
       "        vertical-align: middle;\n",
       "    }\n",
       "\n",
       "    .dataframe tbody tr th {\n",
       "        vertical-align: top;\n",
       "    }\n",
       "\n",
       "    .dataframe thead th {\n",
       "        text-align: right;\n",
       "    }\n",
       "</style>\n",
       "<table border=\"1\" class=\"dataframe\">\n",
       "  <thead>\n",
       "    <tr style=\"text-align: right;\">\n",
       "      <th></th>\n",
       "      <th>count</th>\n",
       "      <th>unique</th>\n",
       "      <th>top</th>\n",
       "      <th>freq</th>\n",
       "      <th>first</th>\n",
       "      <th>last</th>\n",
       "      <th>mean</th>\n",
       "      <th>std</th>\n",
       "      <th>min</th>\n",
       "      <th>25%</th>\n",
       "      <th>50%</th>\n",
       "      <th>75%</th>\n",
       "      <th>max</th>\n",
       "    </tr>\n",
       "  </thead>\n",
       "  <tbody>\n",
       "    <tr>\n",
       "      <th>dateCrawled</th>\n",
       "      <td>342539</td>\n",
       "      <td>264509</td>\n",
       "      <td>2016-03-24 14:49:47</td>\n",
       "      <td>6</td>\n",
       "      <td>2016-03-05 14:06:22</td>\n",
       "      <td>2016-04-07 14:36:58</td>\n",
       "      <td>NaN</td>\n",
       "      <td>NaN</td>\n",
       "      <td>NaN</td>\n",
       "      <td>NaN</td>\n",
       "      <td>NaN</td>\n",
       "      <td>NaN</td>\n",
       "      <td>NaN</td>\n",
       "    </tr>\n",
       "    <tr>\n",
       "      <th>seller</th>\n",
       "      <td>342539</td>\n",
       "      <td>2</td>\n",
       "      <td>privat</td>\n",
       "      <td>342536</td>\n",
       "      <td>NaT</td>\n",
       "      <td>NaT</td>\n",
       "      <td>NaN</td>\n",
       "      <td>NaN</td>\n",
       "      <td>NaN</td>\n",
       "      <td>NaN</td>\n",
       "      <td>NaN</td>\n",
       "      <td>NaN</td>\n",
       "      <td>NaN</td>\n",
       "    </tr>\n",
       "    <tr>\n",
       "      <th>price</th>\n",
       "      <td>342539</td>\n",
       "      <td>NaN</td>\n",
       "      <td>NaN</td>\n",
       "      <td>NaN</td>\n",
       "      <td>NaT</td>\n",
       "      <td>NaT</td>\n",
       "      <td>9193.5</td>\n",
       "      <td>522358</td>\n",
       "      <td>0</td>\n",
       "      <td>1200</td>\n",
       "      <td>3000</td>\n",
       "      <td>7500</td>\n",
       "      <td>1e+08</td>\n",
       "    </tr>\n",
       "    <tr>\n",
       "      <th>vehicleType</th>\n",
       "      <td>342539</td>\n",
       "      <td>8</td>\n",
       "      <td>limousine</td>\n",
       "      <td>91706</td>\n",
       "      <td>NaT</td>\n",
       "      <td>NaT</td>\n",
       "      <td>NaN</td>\n",
       "      <td>NaN</td>\n",
       "      <td>NaN</td>\n",
       "      <td>NaN</td>\n",
       "      <td>NaN</td>\n",
       "      <td>NaN</td>\n",
       "      <td>NaN</td>\n",
       "    </tr>\n",
       "    <tr>\n",
       "      <th>yearOfRegistration</th>\n",
       "      <td>342539</td>\n",
       "      <td>NaN</td>\n",
       "      <td>NaN</td>\n",
       "      <td>NaN</td>\n",
       "      <td>NaT</td>\n",
       "      <td>NaT</td>\n",
       "      <td>2003.77</td>\n",
       "      <td>34.4349</td>\n",
       "      <td>1000</td>\n",
       "      <td>1999</td>\n",
       "      <td>2004</td>\n",
       "      <td>2008</td>\n",
       "      <td>9000</td>\n",
       "    </tr>\n",
       "    <tr>\n",
       "      <th>gearbox</th>\n",
       "      <td>342539</td>\n",
       "      <td>2</td>\n",
       "      <td>manuell</td>\n",
       "      <td>267849</td>\n",
       "      <td>NaT</td>\n",
       "      <td>NaT</td>\n",
       "      <td>NaN</td>\n",
       "      <td>NaN</td>\n",
       "      <td>NaN</td>\n",
       "      <td>NaN</td>\n",
       "      <td>NaN</td>\n",
       "      <td>NaN</td>\n",
       "      <td>NaN</td>\n",
       "    </tr>\n",
       "    <tr>\n",
       "      <th>powerPS</th>\n",
       "      <td>342539</td>\n",
       "      <td>NaN</td>\n",
       "      <td>NaN</td>\n",
       "      <td>NaN</td>\n",
       "      <td>NaT</td>\n",
       "      <td>NaT</td>\n",
       "      <td>119.978</td>\n",
       "      <td>188.264</td>\n",
       "      <td>0</td>\n",
       "      <td>75</td>\n",
       "      <td>109</td>\n",
       "      <td>150</td>\n",
       "      <td>20000</td>\n",
       "    </tr>\n",
       "    <tr>\n",
       "      <th>model</th>\n",
       "      <td>342539</td>\n",
       "      <td>1027</td>\n",
       "      <td>golf</td>\n",
       "      <td>28612</td>\n",
       "      <td>NaT</td>\n",
       "      <td>NaT</td>\n",
       "      <td>NaN</td>\n",
       "      <td>NaN</td>\n",
       "      <td>NaN</td>\n",
       "      <td>NaN</td>\n",
       "      <td>NaN</td>\n",
       "      <td>NaN</td>\n",
       "      <td>NaN</td>\n",
       "    </tr>\n",
       "    <tr>\n",
       "      <th>kilometer</th>\n",
       "      <td>342539</td>\n",
       "      <td>NaN</td>\n",
       "      <td>NaN</td>\n",
       "      <td>NaN</td>\n",
       "      <td>NaT</td>\n",
       "      <td>NaT</td>\n",
       "      <td>126253</td>\n",
       "      <td>39023.5</td>\n",
       "      <td>5000</td>\n",
       "      <td>125000</td>\n",
       "      <td>150000</td>\n",
       "      <td>150000</td>\n",
       "      <td>150000</td>\n",
       "    </tr>\n",
       "    <tr>\n",
       "      <th>fuelType</th>\n",
       "      <td>342539</td>\n",
       "      <td>7</td>\n",
       "      <td>benzin</td>\n",
       "      <td>211809</td>\n",
       "      <td>NaT</td>\n",
       "      <td>NaT</td>\n",
       "      <td>NaN</td>\n",
       "      <td>NaN</td>\n",
       "      <td>NaN</td>\n",
       "      <td>NaN</td>\n",
       "      <td>NaN</td>\n",
       "      <td>NaN</td>\n",
       "      <td>NaN</td>\n",
       "    </tr>\n",
       "    <tr>\n",
       "      <th>brand</th>\n",
       "      <td>342539</td>\n",
       "      <td>39</td>\n",
       "      <td>volkswagen</td>\n",
       "      <td>72225</td>\n",
       "      <td>NaT</td>\n",
       "      <td>NaT</td>\n",
       "      <td>NaN</td>\n",
       "      <td>NaN</td>\n",
       "      <td>NaN</td>\n",
       "      <td>NaN</td>\n",
       "      <td>NaN</td>\n",
       "      <td>NaN</td>\n",
       "      <td>NaN</td>\n",
       "    </tr>\n",
       "    <tr>\n",
       "      <th>notRepairedDamage</th>\n",
       "      <td>342539</td>\n",
       "      <td>NaN</td>\n",
       "      <td>NaN</td>\n",
       "      <td>NaN</td>\n",
       "      <td>NaT</td>\n",
       "      <td>NaT</td>\n",
       "      <td>0.0984939</td>\n",
       "      <td>0.297982</td>\n",
       "      <td>0</td>\n",
       "      <td>0</td>\n",
       "      <td>0</td>\n",
       "      <td>0</td>\n",
       "      <td>1</td>\n",
       "    </tr>\n",
       "    <tr>\n",
       "      <th>dateCreated</th>\n",
       "      <td>342539</td>\n",
       "      <td>111</td>\n",
       "      <td>2016-04-03 00:00:00</td>\n",
       "      <td>13365</td>\n",
       "      <td>2015-03-20 00:00:00</td>\n",
       "      <td>2016-04-07 00:00:00</td>\n",
       "      <td>NaN</td>\n",
       "      <td>NaN</td>\n",
       "      <td>NaN</td>\n",
       "      <td>NaN</td>\n",
       "      <td>NaN</td>\n",
       "      <td>NaN</td>\n",
       "      <td>NaN</td>\n",
       "    </tr>\n",
       "    <tr>\n",
       "      <th>nrOfPictures</th>\n",
       "      <td>342539</td>\n",
       "      <td>NaN</td>\n",
       "      <td>NaN</td>\n",
       "      <td>NaN</td>\n",
       "      <td>NaT</td>\n",
       "      <td>NaT</td>\n",
       "      <td>0</td>\n",
       "      <td>0</td>\n",
       "      <td>0</td>\n",
       "      <td>0</td>\n",
       "      <td>0</td>\n",
       "      <td>0</td>\n",
       "      <td>0</td>\n",
       "    </tr>\n",
       "    <tr>\n",
       "      <th>postalCode</th>\n",
       "      <td>342539</td>\n",
       "      <td>NaN</td>\n",
       "      <td>NaN</td>\n",
       "      <td>NaN</td>\n",
       "      <td>NaT</td>\n",
       "      <td>NaT</td>\n",
       "      <td>51030.8</td>\n",
       "      <td>25789.4</td>\n",
       "      <td>1067</td>\n",
       "      <td>30826</td>\n",
       "      <td>49808</td>\n",
       "      <td>71706</td>\n",
       "      <td>99998</td>\n",
       "    </tr>\n",
       "    <tr>\n",
       "      <th>lastSeen</th>\n",
       "      <td>342539</td>\n",
       "      <td>171029</td>\n",
       "      <td>2016-04-06 01:15:23</td>\n",
       "      <td>16</td>\n",
       "      <td>2016-03-05 14:15:08</td>\n",
       "      <td>2016-04-07 14:58:51</td>\n",
       "      <td>NaN</td>\n",
       "      <td>NaN</td>\n",
       "      <td>NaN</td>\n",
       "      <td>NaN</td>\n",
       "      <td>NaN</td>\n",
       "      <td>NaN</td>\n",
       "      <td>NaN</td>\n",
       "    </tr>\n",
       "  </tbody>\n",
       "</table>\n",
       "</div>"
      ],
      "text/plain": [
       "                     count  unique                  top    freq  \\\n",
       "dateCrawled         342539  264509  2016-03-24 14:49:47       6   \n",
       "seller              342539       2               privat  342536   \n",
       "price               342539     NaN                  NaN     NaN   \n",
       "vehicleType         342539       8            limousine   91706   \n",
       "yearOfRegistration  342539     NaN                  NaN     NaN   \n",
       "gearbox             342539       2              manuell  267849   \n",
       "powerPS             342539     NaN                  NaN     NaN   \n",
       "model               342539    1027                 golf   28612   \n",
       "kilometer           342539     NaN                  NaN     NaN   \n",
       "fuelType            342539       7               benzin  211809   \n",
       "brand               342539      39           volkswagen   72225   \n",
       "notRepairedDamage   342539     NaN                  NaN     NaN   \n",
       "dateCreated         342539     111  2016-04-03 00:00:00   13365   \n",
       "nrOfPictures        342539     NaN                  NaN     NaN   \n",
       "postalCode          342539     NaN                  NaN     NaN   \n",
       "lastSeen            342539  171029  2016-04-06 01:15:23      16   \n",
       "\n",
       "                                 first                last       mean  \\\n",
       "dateCrawled        2016-03-05 14:06:22 2016-04-07 14:36:58        NaN   \n",
       "seller                             NaT                 NaT        NaN   \n",
       "price                              NaT                 NaT     9193.5   \n",
       "vehicleType                        NaT                 NaT        NaN   \n",
       "yearOfRegistration                 NaT                 NaT    2003.77   \n",
       "gearbox                            NaT                 NaT        NaN   \n",
       "powerPS                            NaT                 NaT    119.978   \n",
       "model                              NaT                 NaT        NaN   \n",
       "kilometer                          NaT                 NaT     126253   \n",
       "fuelType                           NaT                 NaT        NaN   \n",
       "brand                              NaT                 NaT        NaN   \n",
       "notRepairedDamage                  NaT                 NaT  0.0984939   \n",
       "dateCreated        2015-03-20 00:00:00 2016-04-07 00:00:00        NaN   \n",
       "nrOfPictures                       NaT                 NaT          0   \n",
       "postalCode                         NaT                 NaT    51030.8   \n",
       "lastSeen           2016-03-05 14:15:08 2016-04-07 14:58:51        NaN   \n",
       "\n",
       "                         std   min     25%     50%     75%     max  \n",
       "dateCrawled              NaN   NaN     NaN     NaN     NaN     NaN  \n",
       "seller                   NaN   NaN     NaN     NaN     NaN     NaN  \n",
       "price                 522358     0    1200    3000    7500   1e+08  \n",
       "vehicleType              NaN   NaN     NaN     NaN     NaN     NaN  \n",
       "yearOfRegistration   34.4349  1000    1999    2004    2008    9000  \n",
       "gearbox                  NaN   NaN     NaN     NaN     NaN     NaN  \n",
       "powerPS              188.264     0      75     109     150   20000  \n",
       "model                    NaN   NaN     NaN     NaN     NaN     NaN  \n",
       "kilometer            39023.5  5000  125000  150000  150000  150000  \n",
       "fuelType                 NaN   NaN     NaN     NaN     NaN     NaN  \n",
       "brand                    NaN   NaN     NaN     NaN     NaN     NaN  \n",
       "notRepairedDamage   0.297982     0       0       0       0       1  \n",
       "dateCreated              NaN   NaN     NaN     NaN     NaN     NaN  \n",
       "nrOfPictures               0     0       0       0       0       0  \n",
       "postalCode           25789.4  1067   30826   49808   71706   99998  \n",
       "lastSeen                 NaN   NaN     NaN     NaN     NaN     NaN  "
      ]
     },
     "execution_count": 13,
     "metadata": {},
     "output_type": "execute_result"
    }
   ],
   "source": [
    "df.describe(include='all').T"
   ]
  },
  {
   "cell_type": "markdown",
   "metadata": {},
   "source": [
    "Main conclusions:\n",
    "- we have only zeroes in **nrOfPictures**. We will delete this feature.\n",
    "- there are outliers in **price** (what kind of car costs £100M?)\n",
    "- **kilometer** has a skewed distribution"
   ]
  },
  {
   "cell_type": "code",
   "execution_count": 14,
   "metadata": {},
   "outputs": [],
   "source": [
    "df.drop('nrOfPictures', axis=1, inplace=True)"
   ]
  },
  {
   "cell_type": "markdown",
   "metadata": {},
   "source": [
    "We will exclude the **postalCode** attribute since we are talking about Germany, and I don't think the price vary significantly from region to region."
   ]
  },
  {
   "cell_type": "code",
   "execution_count": 15,
   "metadata": {},
   "outputs": [],
   "source": [
    "df.drop(['postalCode'], axis=1, inplace=True)"
   ]
  },
  {
   "cell_type": "markdown",
   "metadata": {},
   "source": [
    "Let's create a feature **age** as defference between the year of placing ads and **yearOfRegistration**."
   ]
  },
  {
   "cell_type": "code",
   "execution_count": 16,
   "metadata": {},
   "outputs": [],
   "source": [
    "df['age'] = df['dateCreated'].apply(lambda x: x.year) - df['yearOfRegistration']\n",
    "df.drop('yearOfRegistration', axis=1, inplace=True)"
   ]
  },
  {
   "cell_type": "markdown",
   "metadata": {},
   "source": [
    "### Visual analysis"
   ]
  },
  {
   "cell_type": "markdown",
   "metadata": {},
   "source": [
    "Let's take a look at the spread of values of price, year of the first registration and horsepower."
   ]
  },
  {
   "cell_type": "code",
   "execution_count": 17,
   "metadata": {
    "scrolled": false
   },
   "outputs": [
    {
     "data": {
      "image/png": "[encoded data removed]",
      "text/plain": [
       "<Figure size 1296x432 with 3 Axes>"
      ]
     },
     "metadata": {
      "needs_background": "light"
     },
     "output_type": "display_data"
    }
   ],
   "source": [
    "feats = ['price', 'age', 'powerPS']\n",
    "fig, axes = plt.subplots(ncols=len(feats), nrows=1, figsize=(18,6))\n",
    "\n",
    "for i, feat in enumerate(feats):\n",
    "    sns.boxplot(df[feat], ax=axes[i], orient='v', width=0.5, color='#5DADE2');\n",
    "    axes[i].set_ylabel('')\n",
    "    axes[i].set_title(feat)\n"
   ]
  },
  {
   "cell_type": "markdown",
   "metadata": {},
   "source": [
    "There are too many outliers. Let's define optimal cut-off thresholds. We will start from price. There are plenty of old and cheap cars at the dataset (like 15-20 years old), so we'll choose £100 as the lower bound. We will take £110,000 as the upper boundary. That is how much Porsche costs."
   ]
  },
  {
   "cell_type": "code",
   "execution_count": 18,
   "metadata": {},
   "outputs": [],
   "source": [
    "df = df[(df['price'] >= 100) & (df['price'] <= 110000)]"
   ]
  },
  {
   "cell_type": "markdown",
   "metadata": {},
   "source": [
    "Let's take a look at the age. This is an important feature, because the age of the car is one of the key factors that affect its price. Obviously, the age can not be negative. Let's take a look at frequencies of cars older than 30 years to decide the lower bound for cutting off."
   ]
  },
  {
   "cell_type": "code",
   "execution_count": 19,
   "metadata": {},
   "outputs": [
    {
     "data": {
      "image/png": "[encoded data removed]",
      "text/plain": [
       "<Figure size 1296x360 with 1 Axes>"
      ]
     },
     "metadata": {
      "needs_background": "light"
     },
     "output_type": "display_data"
    }
   ],
   "source": [
    "df.loc[(df['age'] >= 30) & (df['age'] < 80)]['age'].hist(bins=50, figsize=(18,5), color='steelblue');"
   ]
  },
  {
   "cell_type": "markdown",
   "metadata": {},
   "source": [
    "Let's chose 50 years as lower bound because older cars have less than 100 instances in the dataset. "
   ]
  },
  {
   "cell_type": "code",
   "execution_count": 20,
   "metadata": {},
   "outputs": [],
   "source": [
    "df = df.loc[(df['age'] >= 0) & (df['age'] <=50)]"
   ]
  },
  {
   "cell_type": "markdown",
   "metadata": {},
   "source": [
    "There are plenty of Porsches in the dataset with more than 500 horses. On the other hand, we have the Fiat cars with engines producing not more than 30 HP. Let's take (20, 600) as a range of acceptable data values for **powerPS** and build boxplots again."
   ]
  },
  {
   "cell_type": "code",
   "execution_count": 21,
   "metadata": {},
   "outputs": [],
   "source": [
    "df = df[(df['powerPS'] > 20) & (df['powerPS'] < 600)]"
   ]
  },
  {
   "cell_type": "code",
   "execution_count": 22,
   "metadata": {},
   "outputs": [
    {
     "data": {
      "image/png": "[encoded data removed]",
      "text/plain": [
       "<Figure size 1296x432 with 3 Axes>"
      ]
     },
     "metadata": {
      "needs_background": "light"
     },
     "output_type": "display_data"
    }
   ],
   "source": [
    "from matplotlib.ticker import FuncFormatter\n",
    "feats = ['price', 'age', 'powerPS']\n",
    "\n",
    "fig, axis = plt.subplots(ncols=3, figsize=(18, 6))\n",
    "for i, feat in enumerate(feats):\n",
    "    sns.boxplot(np.log(df[feat]), ax=axis[i], orient='v', width=0.5, palette='PuBuGn');# , color='#5DADE2');\n",
    "    y_formatter = FuncFormatter(lambda x, pos: ('%i')%(np.exp(x)))\n",
    "    axis[i].yaxis.set_major_formatter(y_formatter)"
   ]
  },
  {
   "cell_type": "markdown",
   "metadata": {},
   "source": [
    "From the first boxplot we can conclude that about 50% of the used cars cost between £1500 and £8100. \n",
    "The second boxplot shows that a lot of old cars are represented. \n",
    "25% of cars are approximately from 19 to 50 years old, 50% - from 8 and 18, and 25% of relatively new cars. As we can see from the last boxplot, about 25% of the cars have horsepower more than 150 HP and 25% of them - less than 90 HP."
   ]
  },
  {
   "cell_type": "markdown",
   "metadata": {},
   "source": [
    "Let's take a look at the distribution of quantitative and binary features."
   ]
  },
  {
   "cell_type": "code",
   "execution_count": 23,
   "metadata": {
    "scrolled": false
   },
   "outputs": [
    {
     "data": {
      "image/png": "[encoded data removed]",
      "text/plain": [
       "<Figure size 1080x864 with 6 Axes>"
      ]
     },
     "metadata": {
      "needs_background": "light"
     },
     "output_type": "display_data"
    }
   ],
   "source": [
    "df.hist(figsize=(15, 12), color='indianred');"
   ]
  },
  {
   "cell_type": "code",
   "execution_count": 24,
   "metadata": {
    "scrolled": true
   },
   "outputs": [
    {
     "name": "stdout",
     "output_type": "stream",
     "text": [
      "Percentage of cars with a mileage of 150,000 km:  0.6366163993084066\n"
     ]
    }
   ],
   "source": [
    "print('Percentage of cars with a mileage of 150,000 km: ', df[df['kilometer'] == 150000].shape[0] / df.shape[0])"
   ]
  },
  {
   "cell_type": "code",
   "execution_count": 25,
   "metadata": {},
   "outputs": [
    {
     "data": {
      "text/plain": [
       "count    299598.000000\n",
       "mean     125554.326130\n",
       "std       39037.533592\n",
       "min        5000.000000\n",
       "25%      100000.000000\n",
       "50%      150000.000000\n",
       "75%      150000.000000\n",
       "max      150000.000000\n",
       "Name: kilometer, dtype: float64"
      ]
     },
     "execution_count": 25,
     "metadata": {},
     "output_type": "execute_result"
    }
   ],
   "source": [
    "df['kilometer'].describe()"
   ]
  },
  {
   "cell_type": "markdown",
   "metadata": {},
   "source": [
    "Let's pay attention to the mileage (**kilometer** feature). Median and maximum are 150,000. 65% of cars have a mileage of 150,000 km and we have a quite screwed distribution. |"
   ]
  },
  {
   "cell_type": "markdown",
   "metadata": {},
   "source": [
    "Now let's draw the correlation matrix"
   ]
  },
  {
   "cell_type": "code",
   "execution_count": 26,
   "metadata": {},
   "outputs": [
    {
     "data": {
      "image/png": "[encoded data removed]",
      "text/plain": [
       "<Figure size 720x576 with 2 Axes>"
      ]
     },
     "metadata": {
      "needs_background": "light"
     },
     "output_type": "display_data"
    }
   ],
   "source": [
    "plt.figure(figsize=(10,8))\n",
    "sns.heatmap(df.corr(), annot=True, linewidths=.5, cmap='RdBu_r');"
   ]
  },
  {
   "cell_type": "markdown",
   "metadata": {},
   "source": [
    "**price** correlates positively with **age** and **powerPS** and negatively with **kilometer**."
   ]
  },
  {
   "cell_type": "code",
   "execution_count": 27,
   "metadata": {},
   "outputs": [
    {
     "data": {
      "image/png": "[encoded data removed]",
      "text/plain": [
       "<Figure size 648x648 with 12 Axes>"
      ]
     },
     "metadata": {
      "needs_background": "light"
     },
     "output_type": "display_data"
    }
   ],
   "source": [
    "sns.pairplot(data=df[['price', 'age', 'powerPS']], size=3,\n",
    "             plot_kws=dict(s=20, alpha=.5, linewidth=0, color='indianred'), \n",
    "             diag_kws=dict(color='steelblue')\n",
    "            );"
   ]
  },
  {
   "cell_type": "markdown",
   "metadata": {},
   "source": [
    "Let's look at some categorical features separately."
   ]
  },
  {
   "cell_type": "code",
   "execution_count": 28,
   "metadata": {},
   "outputs": [
    {
     "data": {
      "image/png": "[encoded data removed]",
      "text/plain": [
       "<Figure size 1008x864 with 4 Axes>"
      ]
     },
     "metadata": {
      "needs_background": "light"
     },
     "output_type": "display_data"
    }
   ],
   "source": [
    "feats = ['seller', 'vehicleType', 'gearbox', 'fuelType']\n",
    "fig, axes = plt.subplots(nrows=2, ncols=2, figsize=(14,12))\n",
    "for idx, feat in enumerate(feats):\n",
    "    ax = axes[int(idx/2), idx%2]\n",
    "    sns.countplot(df[feat], ax=ax, palette='Blues')\n"
   ]
  },
  {
   "cell_type": "markdown",
   "metadata": {},
   "source": [
    "It turns out that we only have one record with **seller** == 'gewerblich', so you can delete this attribute. fuelType other than diesel and benzin will be combined into a common group andere."
   ]
  },
  {
   "cell_type": "code",
   "execution_count": 29,
   "metadata": {},
   "outputs": [
    {
     "data": {
      "image/png": "[encoded data removed]",
      "text/plain": [
       "<Figure size 504x432 with 1 Axes>"
      ]
     },
     "metadata": {
      "needs_background": "light"
     },
     "output_type": "display_data"
    }
   ],
   "source": [
    "df.drop('seller', axis=1, inplace=True)\n",
    "df['fuelType'].replace(['lpg', 'hybrid', 'cng', 'elektro'], 'andere', inplace=True)\n",
    "plt.figure(figsize=(7,6))\n",
    "sns.countplot(df['fuelType'], palette='Reds_d'); #RdBu, RdBu_r, RdGy, RdGy_r, RdPu, Rd"
   ]
  },
  {
   "cell_type": "markdown",
   "metadata": {},
   "source": [
    "Let's look at the interaction of categorical features and prices."
   ]
  },
  {
   "cell_type": "code",
   "execution_count": 30,
   "metadata": {},
   "outputs": [
    {
     "data": {
      "image/png": "[encoded data removed]",
      "text/plain": [
       "<Figure size 1008x432 with 2 Axes>"
      ]
     },
     "metadata": {
      "needs_background": "light"
     },
     "output_type": "display_data"
    }
   ],
   "source": [
    "fig, axis = plt.subplots(1, 2, figsize=(14, 6), subplot_kw=dict(yscale='log'))\n",
    "ax\n",
    "feats = ['fuelType', 'gearbox']\n",
    "for i, feat in enumerate(feats):\n",
    "    sns.boxplot(x=feat, y='price', data=df, ax=axis[i]);"
   ]
  },
  {
   "cell_type": "markdown",
   "metadata": {},
   "source": [
    "Cars with diesel engines are more expensive than petrol and others, and cars with automatic transmission are more expensive than with manual ones."
   ]
  },
  {
   "cell_type": "code",
   "execution_count": 31,
   "metadata": {},
   "outputs": [
    {
     "data": {
      "image/png": "[encoded data removed]",
      "text/plain": [
       "<Figure size 1152x576 with 1 Axes>"
      ]
     },
     "metadata": {
      "needs_background": "light"
     },
     "output_type": "display_data"
    }
   ],
   "source": [
    "fig, axis = plt.subplots(figsize=(16, 8), )\n",
    "axis.set_yscale('log')\n",
    "sns.boxplot(x='brand', y='price', data=df, palette='RdBu_r');\n",
    "axis.set_xticklabels(df['brand'].unique(), rotation=80);"
   ]
  },
  {
   "cell_type": "markdown",
   "metadata": {},
   "source": [
    "From this picture, it follows that Porsche is significantly more expensive than other brands."
   ]
  },
  {
   "cell_type": "markdown",
   "metadata": {},
   "source": [
    "###  Data preprocessing "
   ]
  },
  {
   "cell_type": "markdown",
   "metadata": {},
   "source": [
    "Since we have date columns let's sort data by **dateCreated**. We need to make sure we are not leaking information from the future into the past. We will not randomly split the data into train and test sets. That would lead to, for example, making predictions about 2015 using data from 2016. Predicting the past with the future will cause us to overestimate the performance of the model."
   ]
  },
  {
   "cell_type": "code",
   "execution_count": 277,
   "metadata": {},
   "outputs": [],
   "source": [
    "df.sort_values(by=['dateCreated'], inplace=True)\n",
    "\n",
    "y = df['price']\n",
    "X = df.drop(['price'], axis=1)"
   ]
  },
  {
   "cell_type": "markdown",
   "metadata": {},
   "source": [
    "Some cars have few or only entry in the data set."
   ]
  },
  {
   "cell_type": "code",
   "execution_count": 38,
   "metadata": {},
   "outputs": [
    {
     "name": "stdout",
     "output_type": "stream",
     "text": [
      "urban     1\n",
      "simca     1\n",
      "scudo.    1\n",
      "in        1\n",
      "palm      1\n",
      "Name: model, dtype: int64\n",
      "\n",
      "Quantity of models which have only entry in the data set: 303\n"
     ]
    }
   ],
   "source": [
    "models_count = X['model'].value_counts(ascending=True) \n",
    "print(models_count.loc[models_count == 1].head())\n",
    "print('\\nQuantity of models which have only entry in the data set:', models_count.loc[models_count == 1].shape[0])"
   ]
  },
  {
   "cell_type": "markdown",
   "metadata": {},
   "source": [
    "Let's split the dataset into training and test data sets. Since we have some cars that have only entry in the data set so some of them can appear in train or test data set only. We will replace car models that are not in the training data set, but that are in the test data set, with \"other\". This match is important for one hot encoding and also help to avoid big mistakes during prediction."
   ]
  },
  {
   "cell_type": "code",
   "execution_count": 278,
   "metadata": {},
   "outputs": [],
   "source": [
    "split_idx = int(X.shape[0] * 0.8)\n",
    "X_train, y_train = X.iloc[:split_idx], y.iloc[:split_idx]\n",
    "X_test, y_test = X.iloc[split_idx:], y.iloc[split_idx:]"
   ]
  },
  {
   "cell_type": "code",
   "execution_count": 42,
   "metadata": {},
   "outputs": [],
   "source": [
    "def obj2cat(X_trn, X_tst, fillna_values={}):\n",
    "    \"\"\"\n",
    "        Converts 'object' type columns to 'category' type \n",
    "        and sets the match between categories of training data set and test data set. \n",
    "        It is nessesary for properly OHE encoding.  \n",
    "    \n",
    "        Parameters\n",
    "        ----------\n",
    "        X_trn : pandas DataFrame, shape [n_samples_1, n_columns]\n",
    "            Training data set.     \n",
    "        X_tst : pandas DataFrame, shape [n_samples_2, n_columns]\n",
    "            Test data set.\n",
    "        fillna_values: dict\n",
    "            Contain values to replace NaN in test data set\n",
    "        Returns\n",
    "        -------\n",
    "        X_trn : pandas DataFrame, shape [n_samples_1, n_columns]\n",
    "            Training data set.     \n",
    "        X_tst : pandas DataFrame, shape [n_samples_2, n_columns]\n",
    "            Test data set.\n",
    "    \"\"\"\n",
    "    for cat_feature in X_trn.columns[X_trn.dtypes == 'object']:\n",
    "        X_trn[cat_feature] = X_trn[cat_feature].astype('category')  \n",
    "        X_trn[cat_feature].cat.set_categories(X_trn[cat_feature].unique(), inplace=True)\n",
    "        X_tst[cat_feature] = X_tst[cat_feature].astype('category')\n",
    "        X_tst[cat_feature].cat.set_categories(X_trn[cat_feature].unique(), inplace=True)\n",
    "        if cat_feature in fillna_values:\n",
    "            if fillna_values[cat_feature] not in X_trn[cat_feature].cat.categories:\n",
    "                X_trn[cat_feature].cat.add_categories(fillna_values[cat_feature], inplace=True)\n",
    "                X_tst[cat_feature].cat.add_categories(fillna_values[cat_feature], inplace=True)\n",
    "            X_tst[cat_feature].fillna(value=fillna_values[cat_feature], inplace=True)\n",
    "    return X_trn, X_tst"
   ]
  },
  {
   "cell_type": "code",
   "execution_count": 43,
   "metadata": {},
   "outputs": [],
   "source": [
    "X_train_cat, X_test_cat = obj2cat(X_train.copy(), X_test.copy(), {'model': 'andere'})"
   ]
  },
  {
   "cell_type": "code",
   "execution_count": 44,
   "metadata": {},
   "outputs": [
    {
     "data": {
      "text/plain": [
       "((239678, 12), (59920, 12))"
      ]
     },
     "execution_count": 44,
     "metadata": {},
     "output_type": "execute_result"
    }
   ],
   "source": [
    "X_train_cat.shape, X_test.shape"
   ]
  },
  {
   "cell_type": "markdown",
   "metadata": {},
   "source": [
    "### Building basic models. Choosing evaluation metrics."
   ]
  },
  {
   "cell_type": "markdown",
   "metadata": {},
   "source": [
    "We'll build and compare linear regression and random forest."
   ]
  },
  {
   "cell_type": "code",
   "execution_count": 45,
   "metadata": {},
   "outputs": [],
   "source": [
    "# For basic models tet's remove features containing dates. \n",
    "X_train_base = X_train_cat.drop(['dateCrawled','dateCreated', 'lastSeen'], axis=1)\n",
    "X_test_base = X_test_cat.drop(['dateCrawled','dateCreated', 'lastSeen'], axis=1)"
   ]
  },
  {
   "cell_type": "markdown",
   "metadata": {},
   "source": [
    "#### Basic linear regression model"
   ]
  },
  {
   "cell_type": "markdown",
   "metadata": {},
   "source": [
    "Lets's also apply one-hot encoding to categorical features, scale the features and train the linear regression model."
   ]
  },
  {
   "cell_type": "code",
   "execution_count": 46,
   "metadata": {},
   "outputs": [],
   "source": [
    "X_train_ohe = pd.get_dummies(X_train_base, columns=X_train_base.columns[X_train_base.dtypes == 'category'])\n",
    "X_test_ohe = pd.get_dummies(X_test_base, columns=X_test_base.columns[X_test_base.dtypes == 'category'])"
   ]
  },
  {
   "cell_type": "code",
   "execution_count": 47,
   "metadata": {},
   "outputs": [],
   "source": [
    "scaler = StandardScaler().fit(X_train_ohe)\n",
    "X_train_scaled = scaler.transform(X_train_ohe)\n",
    "X_test_scaled = scaler.transform(X_test_ohe)"
   ]
  },
  {
   "cell_type": "code",
   "execution_count": 48,
   "metadata": {},
   "outputs": [
    {
     "data": {
      "text/plain": [
       "LinearRegression(copy_X=True, fit_intercept=True, n_jobs=None, normalize=False)"
      ]
     },
     "execution_count": 48,
     "metadata": {},
     "output_type": "execute_result"
    }
   ],
   "source": [
    "lr = LinearRegression()\n",
    "lr.fit(X_train_scaled, y_train)"
   ]
  },
  {
   "cell_type": "markdown",
   "metadata": {},
   "source": [
    "We'll choose MAE as the evaluation metrics because of its interpretability. Let's also take a look at the coefficient of determination $R^2$. This measure is indicative of the level of explained variability in the data set. The closer it is to one the better."
   ]
  },
  {
   "cell_type": "code",
   "execution_count": 49,
   "metadata": {},
   "outputs": [
    {
     "name": "stdout",
     "output_type": "stream",
     "text": [
      "LinearRegression:\n",
      "\tMAE:  2486.1373605715903\n",
      "\tR2:  0.733834720077172\n"
     ]
    }
   ],
   "source": [
    "y_preds_lr = lr.predict(X_test_scaled)\n",
    "print('LinearRegression:')\n",
    "print('\\tMAE: ', mean_absolute_error(y_test, y_preds_lr))\n",
    "print('\\tR2: ', r2_score(y_test, y_preds_lr))"
   ]
  },
  {
   "cell_type": "markdown",
   "metadata": {},
   "source": [
    "On average, our model is wrong by £2484. It's a pretty big mistake. Let's plot real and predicted price for some cars."
   ]
  },
  {
   "cell_type": "code",
   "execution_count": 50,
   "metadata": {},
   "outputs": [
    {
     "data": {
      "image/png": "[encoded data removed]",
      "text/plain": [
       "<Figure size 1080x576 with 1 Axes>"
      ]
     },
     "metadata": {
      "needs_background": "light"
     },
     "output_type": "display_data"
    }
   ],
   "source": [
    "car_amount = 20\n",
    "cars = [f'{i+1} - {model}' for i, model \n",
    "        in enumerate((df['brand'] + ' ' + df['model']).iloc[split_idx : split_idx+car_amount])]\n",
    "plt.figure(figsize =(15, 8))\n",
    "ax = sns.scatterplot(x=cars, y=y_preds_lr[:car_amount], color='red', label='predicted price', s=80);\n",
    "sns.scatterplot(x=cars, y=y_test.iloc[:car_amount].values, color='darkblue', label='real price', s=80);\n",
    "ax.set_title('Predicted price vs. real price (linear regression)')\n",
    "ax.set_xticklabels(labels=cars, rotation=45, horizontalalignment='right');"
   ]
  },
  {
   "cell_type": "markdown",
   "metadata": {},
   "source": [
    "Let's see how random forest will deal with the problem. "
   ]
  },
  {
   "cell_type": "markdown",
   "metadata": {},
   "source": [
    "#### Basic random forest"
   ]
  },
  {
   "cell_type": "markdown",
   "metadata": {},
   "source": [
    "One-hot encoding works worse with RF. Significant amount of features makes training process much slower. Let's use label encoding for categorical features instead.   "
   ]
  },
  {
   "cell_type": "code",
   "execution_count": 51,
   "metadata": {},
   "outputs": [],
   "source": [
    "# le = LabelEncoder()\n",
    "# for col in X_train_base.columns[X_train_base.dtypes == 'category']:\n",
    "#     le = LabelEncoder().fit(X_train_base[col])\n",
    "#     X_train_base[col] = le.transform(X_train_base[col])\n",
    "#     X_test_base[col] = le.transform(X_test_base[col])\n",
    "    \n",
    "cat_feat = X_train_base.columns[X_train_base.dtypes == 'category']\n",
    "noncat_feat = X_train_base.columns[X_train_base.dtypes != 'category']\n",
    "oe = OrdinalEncoder().fit(X_train_base[cat_feat])\n",
    "X_train_cat = oe.transform(X_train_base[cat_feat])\n",
    "X_test_cat = oe.transform(X_test_base[cat_feat])\n",
    "X_train_base = np.concatenate([X_train_base[noncat_feat], X_train_cat], axis=1)\n",
    "X_test_base = np.concatenate([X_test_base[noncat_feat], X_test_cat], axis=1)"
   ]
  },
  {
   "cell_type": "code",
   "execution_count": 52,
   "metadata": {
    "scrolled": true
   },
   "outputs": [
    {
     "data": {
      "text/plain": [
       "RandomForestRegressor(bootstrap=True, ccp_alpha=0.0, criterion='mse',\n",
       "                      max_depth=None, max_features='auto', max_leaf_nodes=None,\n",
       "                      max_samples=None, min_impurity_decrease=0.0,\n",
       "                      min_impurity_split=None, min_samples_leaf=1,\n",
       "                      min_samples_split=2, min_weight_fraction_leaf=0.0,\n",
       "                      n_estimators=100, n_jobs=-1, oob_score=False,\n",
       "                      random_state=17, verbose=0, warm_start=False)"
      ]
     },
     "execution_count": 52,
     "metadata": {},
     "output_type": "execute_result"
    }
   ],
   "source": [
    "rf = RandomForestRegressor(n_jobs=-1, random_state=RANDOM_SEED)\n",
    "rf.fit(X_train_base, y_train)"
   ]
  },
  {
   "cell_type": "code",
   "execution_count": 53,
   "metadata": {},
   "outputs": [
    {
     "name": "stdout",
     "output_type": "stream",
     "text": [
      "RandomForestRegressor:\n",
      "\tMAE:  1234.4439383091024\n",
      "\tR2:  0.9035234462113809\n"
     ]
    }
   ],
   "source": [
    "y_preds_rf = rf.predict(X_test_base)\n",
    "print('RandomForestRegressor:')\n",
    "print('\\tMAE: ', mean_absolute_error(y_test, y_preds_rf))\n",
    "print('\\tR2: ', r2_score(y_test, y_preds_rf))"
   ]
  },
  {
   "cell_type": "code",
   "execution_count": 54,
   "metadata": {},
   "outputs": [
    {
     "name": "stdout",
     "output_type": "stream",
     "text": [
      "Predicted price range: (100.00, 104104.01) \n"
     ]
    }
   ],
   "source": [
    "print('Predicted price range: (%.2f, %.2f) ' % (y_preds_rf.min(), y_preds_rf.max()))"
   ]
  },
  {
   "cell_type": "code",
   "execution_count": 55,
   "metadata": {},
   "outputs": [
    {
     "name": "stdout",
     "output_type": "stream",
     "text": [
      "Real price range: (100.00, 110000.00) \n"
     ]
    }
   ],
   "source": [
    "print('Real price range: (%.2f, %.2f) ' % (y_test.min(), y_test.max()))"
   ]
  },
  {
   "cell_type": "markdown",
   "metadata": {},
   "source": [
    "Looks like random forest managed better. The minimum and maximum values are very close. Price varies from £100 to £110K for targets and from £100 to £104K for predictions. Let's plot real and predicted price for some cars."
   ]
  },
  {
   "cell_type": "code",
   "execution_count": 56,
   "metadata": {},
   "outputs": [
    {
     "data": {
      "image/png": "[encoded data removed]",
      "text/plain": [
       "<Figure size 1080x576 with 1 Axes>"
      ]
     },
     "metadata": {
      "needs_background": "light"
     },
     "output_type": "display_data"
    }
   ],
   "source": [
    "car_amount = 20\n",
    "cars = [f'{i+1} - {model}' for i, model \n",
    "        in enumerate((df['brand'] + ' ' + df['model']).iloc[split_idx : split_idx+car_amount])]\n",
    "plt.figure(figsize =(15, 8))\n",
    "ax = sns.scatterplot(x=cars, y=y_preds_rf[:car_amount], color='red', label='predicted price', s=80);\n",
    "sns.scatterplot(x=cars, y=y_test.iloc[:car_amount].values, color='darkblue', label='real price', s=80);\n",
    "ax.set_title('Predicted price vs. real price (random forest)')\n",
    "ax.set_xticklabels(labels=cars, rotation=45, horizontalalignment='right');"
   ]
  },
  {
   "cell_type": "markdown",
   "metadata": {},
   "source": [
    "On the image above we can see that predictions are very close to real values. The more expensive car the larger error. It can be explained by that there are much more cheap cars in the data set than expensive ones. From the statistics represented below we can see that 75% of cars cost less than £8000."
   ]
  },
  {
   "cell_type": "code",
   "execution_count": 57,
   "metadata": {},
   "outputs": [
    {
     "data": {
      "text/plain": [
       "count    299598.000000\n",
       "mean       6223.674521\n",
       "std        7709.920700\n",
       "min         100.000000\n",
       "25%        1450.000000\n",
       "50%        3500.000000\n",
       "75%        8000.000000\n",
       "max      110000.000000\n",
       "Name: price, dtype: float64"
      ]
     },
     "execution_count": 57,
     "metadata": {},
     "output_type": "execute_result"
    }
   ],
   "source": [
    "y.describe()"
   ]
  },
  {
   "cell_type": "code",
   "execution_count": 58,
   "metadata": {},
   "outputs": [
    {
     "name": "stdout",
     "output_type": "stream",
     "text": [
      "Cheap cars amount: 198545\n",
      "Average price cars amount: 85429\n",
      "Expensive cars amount: 15624\n"
     ]
    }
   ],
   "source": [
    "print('Cheap cars amount:', df.loc[df['price'] < 6000].shape[0])\n",
    "print('Average price cars amount:', df.loc[(df['price'] >= 6000) & (df['price'] < 20000)].shape[0])\n",
    "print('Expensive cars amount:', df.loc[df['price'] >= 20000].shape[0])"
   ]
  },
  {
   "cell_type": "markdown",
   "metadata": {},
   "source": [
    "###  Feature ingeneering"
   ]
  },
  {
   "cell_type": "code",
   "execution_count": 348,
   "metadata": {},
   "outputs": [],
   "source": [
    "X.drop('30d_count', axis=1, inplace=True)"
   ]
  },
  {
   "cell_type": "code",
   "execution_count": 349,
   "metadata": {},
   "outputs": [],
   "source": [
    "X.index.set_names('index', inplace=True)\n",
    "tmp = X[['dateCreated', 'model']].reset_index().set_index('dateCreated')\n",
    "tmp['count'] = 1\n",
    "tmp_roll = tmp.groupby('model').rolling('1D')['count'].count().sort_index(level=['dateCreated','model'])\n",
    "tmp = tmp.drop('count', axis=1).set_index('model', append=True).sort_index(level=['dateCreated','model']) \n",
    "tmp['1d_count'] = tmp_roll.values\n",
    "\n",
    "X = X.merge(tmp, on='index').set_index('index')"
   ]
  },
  {
   "cell_type": "code",
   "execution_count": 350,
   "metadata": {
    "collapsed": true
   },
   "outputs": [
    {
     "data": {
      "text/html": [
       "<div>\n",
       "<style scoped>\n",
       "    .dataframe tbody tr th:only-of-type {\n",
       "        vertical-align: middle;\n",
       "    }\n",
       "\n",
       "    .dataframe tbody tr th {\n",
       "        vertical-align: top;\n",
       "    }\n",
       "\n",
       "    .dataframe thead th {\n",
       "        text-align: right;\n",
       "    }\n",
       "</style>\n",
       "<table border=\"1\" class=\"dataframe\">\n",
       "  <thead>\n",
       "    <tr style=\"text-align: right;\">\n",
       "      <th></th>\n",
       "      <th>dateCrawled</th>\n",
       "      <th>vehicleType</th>\n",
       "      <th>gearbox</th>\n",
       "      <th>powerPS</th>\n",
       "      <th>model</th>\n",
       "      <th>kilometer</th>\n",
       "      <th>fuelType</th>\n",
       "      <th>brand</th>\n",
       "      <th>notRepairedDamage</th>\n",
       "      <th>dateCreated</th>\n",
       "      <th>lastSeen</th>\n",
       "      <th>age</th>\n",
       "      <th>1d_count</th>\n",
       "    </tr>\n",
       "    <tr>\n",
       "      <th>index</th>\n",
       "      <th></th>\n",
       "      <th></th>\n",
       "      <th></th>\n",
       "      <th></th>\n",
       "      <th></th>\n",
       "      <th></th>\n",
       "      <th></th>\n",
       "      <th></th>\n",
       "      <th></th>\n",
       "      <th></th>\n",
       "      <th></th>\n",
       "      <th></th>\n",
       "      <th></th>\n",
       "    </tr>\n",
       "  </thead>\n",
       "  <tbody>\n",
       "    <tr>\n",
       "      <th>4192</th>\n",
       "      <td>2016-03-23 14:42:46</td>\n",
       "      <td>bus</td>\n",
       "      <td>automatik</td>\n",
       "      <td>200</td>\n",
       "      <td>andere</td>\n",
       "      <td>150000</td>\n",
       "      <td>benzin</td>\n",
       "      <td>chevrolet</td>\n",
       "      <td>0</td>\n",
       "      <td>2015-03-20</td>\n",
       "      <td>2016-04-07 03:45:01</td>\n",
       "      <td>20</td>\n",
       "      <td>1.0</td>\n",
       "    </tr>\n",
       "    <tr>\n",
       "      <th>90805</th>\n",
       "      <td>2016-04-02 19:47:40</td>\n",
       "      <td>cabrio</td>\n",
       "      <td>manuell</td>\n",
       "      <td>163</td>\n",
       "      <td>slk</td>\n",
       "      <td>150000</td>\n",
       "      <td>benzin</td>\n",
       "      <td>mercedes_benz</td>\n",
       "      <td>0</td>\n",
       "      <td>2015-08-07</td>\n",
       "      <td>2016-04-07 09:15:23</td>\n",
       "      <td>10</td>\n",
       "      <td>1.0</td>\n",
       "    </tr>\n",
       "    <tr>\n",
       "      <th>183656</th>\n",
       "      <td>2016-03-08 17:57:45</td>\n",
       "      <td>cabrio</td>\n",
       "      <td>manuell</td>\n",
       "      <td>109</td>\n",
       "      <td>2_reihe</td>\n",
       "      <td>80000</td>\n",
       "      <td>benzin</td>\n",
       "      <td>peugeot</td>\n",
       "      <td>0</td>\n",
       "      <td>2015-08-10</td>\n",
       "      <td>2016-04-05 20:46:54</td>\n",
       "      <td>9</td>\n",
       "      <td>1.0</td>\n",
       "    </tr>\n",
       "    <tr>\n",
       "      <th>231764</th>\n",
       "      <td>2016-03-15 01:56:49</td>\n",
       "      <td>kleinwagen</td>\n",
       "      <td>manuell</td>\n",
       "      <td>54</td>\n",
       "      <td>polo</td>\n",
       "      <td>150000</td>\n",
       "      <td>benzin</td>\n",
       "      <td>volkswagen</td>\n",
       "      <td>1</td>\n",
       "      <td>2015-09-04</td>\n",
       "      <td>2016-03-15 15:49:29</td>\n",
       "      <td>10</td>\n",
       "      <td>1.0</td>\n",
       "    </tr>\n",
       "    <tr>\n",
       "      <th>79265</th>\n",
       "      <td>2016-03-14 08:43:53</td>\n",
       "      <td>kleinwagen</td>\n",
       "      <td>manuell</td>\n",
       "      <td>54</td>\n",
       "      <td>polo</td>\n",
       "      <td>150000</td>\n",
       "      <td>benzin</td>\n",
       "      <td>volkswagen</td>\n",
       "      <td>1</td>\n",
       "      <td>2015-09-04</td>\n",
       "      <td>2016-03-15 14:16:58</td>\n",
       "      <td>10</td>\n",
       "      <td>2.0</td>\n",
       "    </tr>\n",
       "    <tr>\n",
       "      <th>...</th>\n",
       "      <td>...</td>\n",
       "      <td>...</td>\n",
       "      <td>...</td>\n",
       "      <td>...</td>\n",
       "      <td>...</td>\n",
       "      <td>...</td>\n",
       "      <td>...</td>\n",
       "      <td>...</td>\n",
       "      <td>...</td>\n",
       "      <td>...</td>\n",
       "      <td>...</td>\n",
       "      <td>...</td>\n",
       "      <td>...</td>\n",
       "    </tr>\n",
       "    <tr>\n",
       "      <th>73253</th>\n",
       "      <td>2016-04-07 02:36:21</td>\n",
       "      <td>kleinwagen</td>\n",
       "      <td>manuell</td>\n",
       "      <td>60</td>\n",
       "      <td>ypsilon</td>\n",
       "      <td>150000</td>\n",
       "      <td>benzin</td>\n",
       "      <td>lancia</td>\n",
       "      <td>0</td>\n",
       "      <td>2016-04-07</td>\n",
       "      <td>2016-04-07 02:36:21</td>\n",
       "      <td>18</td>\n",
       "      <td>1.0</td>\n",
       "    </tr>\n",
       "    <tr>\n",
       "      <th>23655</th>\n",
       "      <td>2016-04-07 12:25:38</td>\n",
       "      <td>limousine</td>\n",
       "      <td>manuell</td>\n",
       "      <td>177</td>\n",
       "      <td>e_klasse</td>\n",
       "      <td>150000</td>\n",
       "      <td>benzin</td>\n",
       "      <td>mercedes_benz</td>\n",
       "      <td>0</td>\n",
       "      <td>2016-04-07</td>\n",
       "      <td>2016-04-07 12:25:38</td>\n",
       "      <td>13</td>\n",
       "      <td>11.0</td>\n",
       "    </tr>\n",
       "    <tr>\n",
       "      <th>364389</th>\n",
       "      <td>2016-04-07 14:06:57</td>\n",
       "      <td>kleinwagen</td>\n",
       "      <td>manuell</td>\n",
       "      <td>68</td>\n",
       "      <td>2_reihe</td>\n",
       "      <td>150000</td>\n",
       "      <td>diesel</td>\n",
       "      <td>peugeot</td>\n",
       "      <td>0</td>\n",
       "      <td>2016-04-07</td>\n",
       "      <td>2016-04-07 14:06:57</td>\n",
       "      <td>13</td>\n",
       "      <td>10.0</td>\n",
       "    </tr>\n",
       "    <tr>\n",
       "      <th>138659</th>\n",
       "      <td>2016-04-07 11:36:19</td>\n",
       "      <td>bus</td>\n",
       "      <td>manuell</td>\n",
       "      <td>114</td>\n",
       "      <td>vivaro</td>\n",
       "      <td>150000</td>\n",
       "      <td>diesel</td>\n",
       "      <td>opel</td>\n",
       "      <td>0</td>\n",
       "      <td>2016-04-07</td>\n",
       "      <td>2016-04-07 11:36:19</td>\n",
       "      <td>8</td>\n",
       "      <td>1.0</td>\n",
       "    </tr>\n",
       "    <tr>\n",
       "      <th>123573</th>\n",
       "      <td>2016-04-07 06:36:37</td>\n",
       "      <td>kombi</td>\n",
       "      <td>automatik</td>\n",
       "      <td>220</td>\n",
       "      <td>a6</td>\n",
       "      <td>150000</td>\n",
       "      <td>andere</td>\n",
       "      <td>audi</td>\n",
       "      <td>1</td>\n",
       "      <td>2016-04-07</td>\n",
       "      <td>2016-04-07 06:36:37</td>\n",
       "      <td>14</td>\n",
       "      <td>7.0</td>\n",
       "    </tr>\n",
       "  </tbody>\n",
       "</table>\n",
       "<p>299598 rows × 13 columns</p>\n",
       "</div>"
      ],
      "text/plain": [
       "               dateCrawled vehicleType    gearbox  powerPS     model  \\\n",
       "index                                                                  \n",
       "4192   2016-03-23 14:42:46         bus  automatik      200    andere   \n",
       "90805  2016-04-02 19:47:40      cabrio    manuell      163       slk   \n",
       "183656 2016-03-08 17:57:45      cabrio    manuell      109   2_reihe   \n",
       "231764 2016-03-15 01:56:49  kleinwagen    manuell       54      polo   \n",
       "79265  2016-03-14 08:43:53  kleinwagen    manuell       54      polo   \n",
       "...                    ...         ...        ...      ...       ...   \n",
       "73253  2016-04-07 02:36:21  kleinwagen    manuell       60   ypsilon   \n",
       "23655  2016-04-07 12:25:38   limousine    manuell      177  e_klasse   \n",
       "364389 2016-04-07 14:06:57  kleinwagen    manuell       68   2_reihe   \n",
       "138659 2016-04-07 11:36:19         bus    manuell      114    vivaro   \n",
       "123573 2016-04-07 06:36:37       kombi  automatik      220        a6   \n",
       "\n",
       "        kilometer fuelType          brand  notRepairedDamage dateCreated  \\\n",
       "index                                                                      \n",
       "4192       150000   benzin      chevrolet                  0  2015-03-20   \n",
       "90805      150000   benzin  mercedes_benz                  0  2015-08-07   \n",
       "183656      80000   benzin        peugeot                  0  2015-08-10   \n",
       "231764     150000   benzin     volkswagen                  1  2015-09-04   \n",
       "79265      150000   benzin     volkswagen                  1  2015-09-04   \n",
       "...           ...      ...            ...                ...         ...   \n",
       "73253      150000   benzin         lancia                  0  2016-04-07   \n",
       "23655      150000   benzin  mercedes_benz                  0  2016-04-07   \n",
       "364389     150000   diesel        peugeot                  0  2016-04-07   \n",
       "138659     150000   diesel           opel                  0  2016-04-07   \n",
       "123573     150000   andere           audi                  1  2016-04-07   \n",
       "\n",
       "                  lastSeen  age  1d_count  \n",
       "index                                      \n",
       "4192   2016-04-07 03:45:01   20       1.0  \n",
       "90805  2016-04-07 09:15:23   10       1.0  \n",
       "183656 2016-04-05 20:46:54    9       1.0  \n",
       "231764 2016-03-15 15:49:29   10       1.0  \n",
       "79265  2016-03-15 14:16:58   10       2.0  \n",
       "...                    ...  ...       ...  \n",
       "73253  2016-04-07 02:36:21   18       1.0  \n",
       "23655  2016-04-07 12:25:38   13      11.0  \n",
       "364389 2016-04-07 14:06:57   13      10.0  \n",
       "138659 2016-04-07 11:36:19    8       1.0  \n",
       "123573 2016-04-07 06:36:37   14       7.0  \n",
       "\n",
       "[299598 rows x 13 columns]"
      ]
     },
     "execution_count": 350,
     "metadata": {},
     "output_type": "execute_result"
    }
   ],
   "source": [
    "X"
   ]
  },
  {
   "cell_type": "code",
   "execution_count": 351,
   "metadata": {},
   "outputs": [],
   "source": [
    "split_idx = int(X.shape[0] * 0.8)\n",
    "X_train, y_train = X.iloc[:split_idx], y.iloc[:split_idx]\n",
    "X_test, y_test = X.iloc[split_idx:], y.iloc[split_idx:]"
   ]
  },
  {
   "cell_type": "markdown",
   "metadata": {
    "collapsed": true
   },
   "source": [
    "New features that can presumably correlate with the target: \n",
    "- \n",
    "- **adUpDays** - amount of days the ad was published   "
   ]
  },
  {
   "cell_type": "code",
   "execution_count": 353,
   "metadata": {},
   "outputs": [],
   "source": [
    "new_feats_train = pd.DataFrame(index=X_train.index)\n",
    "new_feats_test = pd.DataFrame(index=X_test.index)\n",
    "\n",
    "new_feats_train['adUpDays'] = (X_train['lastSeen'] - X_train['dateCrawled']).dt.days + 1\n",
    "new_feats_test['adUpDays'] = (X_test['lastSeen'] -  X_test['dateCrawled']).dt.days + 1\n",
    "\n",
    "\n",
    "\n",
    "# df.groupby('model').cumcount() + 1\n",
    "\n",
    "new_feats_train['1d_count'] = X_train['1d_count']\n",
    "new_feats_test['1d_count'] = X_test['1d_count']\n",
    "X_train.drop('1d_count', inplace=True, axis=1)\n",
    "X_test.drop('1d_count', inplace=True, axis=1)\n",
    "\n",
    "# new_feats_train.loc[y_train < 6000, 'priceBracket'] = 1\n",
    "# new_feats_train.loc[(y_train >= 6000) & (y_train < 20000), 'priceBracket'] = 2\n",
    "# new_feats_train.loc[y_train >= 20000, 'priceBracket'] = 3\n",
    "# new_feats_train['priceBracket'] = new_feats_train['priceBracket'].astype('category')\n",
    "\n",
    "# new_feats_test.loc[y_test < 6000, 'priceBracket'] = 1\n",
    "# new_feats_test.loc[(y_test >= 6000) & (y_test < 20000), 'priceBracket'] = 2\n",
    "# new_feats_test.loc[y_test >= 20000, 'priceBracket'] = 3\n",
    "# new_feats_test['priceBracket'] = new_feats_test['priceBracket'].astype('category')\n",
    "\n",
    "X_train = X_train.drop(['dateCrawled','dateCreated', 'lastSeen'], axis=1)\n",
    "X_test = X_test.drop(['dateCrawled','dateCreated', 'lastSeen'], axis=1)"
   ]
  },
  {
   "cell_type": "markdown",
   "metadata": {},
   "source": [
    "Let's see if the new features help to improve quality ."
   ]
  },
  {
   "cell_type": "code",
   "execution_count": 341,
   "metadata": {},
   "outputs": [],
   "source": [
    "from sklearn.model_selection import TimeSeriesSplit\n",
    "\n",
    "def pipeline_transform(X_train, X_valid, pipeline, fillna_values):\n",
    "    '''\n",
    "        Apply transformations to data sets accoding to pipeline\n",
    "        \n",
    "        Parameters\n",
    "        ----------\n",
    "        X_train : pandas DataFrame, shape [n_samples_1, n_columns]\n",
    "            Training data set to transform\n",
    "        X_valid : pandas DataFrame, shape [n_samples_2, n_columns]\n",
    "            Valid/Test  data set to transform\n",
    "        pipeline: list of str, default = ['ohe', 'stdscale','lr'] \n",
    "            Pipeline of transforms to apply to X with a final estimator.\n",
    "            'ohe' - ohe hot encoder (dummy), 'stdscale' - StandardScaler, 'poly' - PolynomialFeatures,\n",
    "            'label' - LabelEncoder, 'lr' - LinearRegression, 'rf' - RandomForestRegression\n",
    "        fillna_values: dict\n",
    "            Contain values to replace NaN in test data set\n",
    "            \n",
    "        Returns\n",
    "        -------\n",
    "        tuple_of_transformed_data_sets_and_model: tuple\n",
    "            Tuple containing transformed data sets and model\n",
    "    '''\n",
    "    X_train, X_valid = obj2cat(X_train, X_valid, fillna_values=fillna_values)\n",
    "    noncat_feats = X_train.columns[X_train.dtypes != 'category']\n",
    "    cat_feats = X_train.columns[X_train.dtypes == 'category']\n",
    "    if 'ohe' in pipeline:\n",
    "#             X_train_cat = X_train[X_train.columns[X_train.dtypes == 'category']]\n",
    "#             ohe = OneHotEncoder(sparse=False).fit(X_train_cat)\n",
    "#             X_train_cat = ohe.transform(X_train_cat)\n",
    "#             X_valid_cat = ohe.transform(X_valid[X_valid.columns[X_valid.dtypes == 'category']])\n",
    "#             X_train = np.concatenate([X_train_cat, X_train[X_train.columns[X_train.dtypes != 'category']]], axis=1)\n",
    "#             X_valid = np.concatenate([X_valid_cat, X_valid[X_valid.columns[X_valid.dtypes != 'category']]], axis=1)\n",
    "        X_train = pd.get_dummies(X_train, columns=cat_feats)\n",
    "        X_valid = pd.get_dummies(X_valid, columns=cat_feats)\n",
    "        cat_feats = X_train.columns[X_train.columns.str.contains('|'.join(cat_feats))] #new categorical columns\n",
    "    if 'stdscale' in pipeline:\n",
    "        scaler = StandardScaler().fit(X_train[noncat_feats])\n",
    "\n",
    "        X_train = pd.concat([X_train[cat_feats], \n",
    "                            pd.DataFrame(scaler.transform(X_train[noncat_feats]), columns=noncat_feats,\n",
    "                                        index=X_train.index)], axis=1)\n",
    "        X_valid = pd.concat([X_valid[cat_feats], \n",
    "                             pd.DataFrame(scaler.transform(X_valid[noncat_feats]), columns=noncat_feats,\n",
    "                                         index=X_valid.index)], axis=1)\n",
    "\n",
    "    if 'poly' in pipeline:\n",
    "        poly = PolynomialFeatures(2).fit(X_train[noncat_feats])\n",
    "        X_train = np.concatenate([X_train[cat_feats], poly.transform(X_train[noncat_feats])], axis=1)\n",
    "        X_valid = np.concatenate([X_valid[cat_feats], poly.transform(X_valid[noncat_feats])], axis=1)\n",
    "\n",
    "    if 'label' in pipeline:\n",
    "        oe = OrdinalEncoder().fit(X_train[cat_feats])\n",
    "        X_train_cat = oe.transform(X_train[cat_feats])\n",
    "        X_valid_cat = oe.transform(X_valid[cat_feats])\n",
    "        X_train = pd.concat([X_train[noncat_feats], \n",
    "                             pd.DataFrame(X_train_cat, columns=cat_feats, index=X_train.index)], axis=1)\n",
    "        X_valid = pd.concat([X_valid[noncat_feats], \n",
    "                             pd.DataFrame(X_valid_cat, columns=cat_feats, index=X_valid.index)], axis=1)\n",
    "\n",
    "    if 'lr' in pipeline:\n",
    "        model = LinearRegression()\n",
    "\n",
    "    if 'rf' in pipeline:\n",
    "        model = RandomForestRegressor(random_state=RANDOM_SEED, n_jobs=-1)\n",
    "    return X_train, X_valid, model\n",
    "\n",
    "def cv_mean_scores(X, y, n_splits=5, pipeline=['ohe', 'stdscale','lr'], fillna_values={}):\n",
    "    \"\"\"\n",
    "        Evaluate MAE and R2 scores by cross-validation using Time Series cross-validator \n",
    "        \n",
    "        Parameters\n",
    "        ----------\n",
    "        X : pandas DataFrame, shape [n_samples, n_columns]\n",
    "        y : pandas Series, shape = [n_samples]\n",
    "            Target values.\n",
    "        n_splits : int, default=5:\n",
    "            Number of splits. Must be at least 2.\n",
    "        pipeline: list of str, default = ['ohe', 'stdscale','lr'] \n",
    "            Pipeline of transforms to apply to X with a final estimator.\n",
    "            'ohe' - ohe hot encoder (dummy), 'stdscale' - StandardScaler, 'poly' - PolynomialFeatures,\n",
    "            'label' - LabelEncoder, 'lr' - LinearRegression, 'rf' - RandomForestRegression\n",
    "        \n",
    "        Returns\n",
    "        -------\n",
    "        tuple_of_mean_scores: tuple\n",
    "            Tuple containing mean of MAE scores and mean of R2 scores   \n",
    "    \"\"\"\n",
    "    tscv = TimeSeriesSplit(n_splits)\n",
    "    mae_scores = []\n",
    "    r2_scores = []\n",
    "    for train_indices, valid_indices in tscv.split(X):\n",
    "        X_train, X_valid = X.iloc[train_indices], X.iloc[valid_indices]\n",
    "        y_train, y_valid = y.iloc[train_indices], y.iloc[valid_indices]\n",
    "        \n",
    "        X_train, X_valid, model = pipeline_transform(X_train, X_valid, \n",
    "                                                     pipeline=pipeline, fillna_values=fillna_values)   \n",
    "                \n",
    "        model.fit(X_train, y_train)\n",
    "        y_preds = model.predict(X_valid)\n",
    "        mae_scores.append(mean_absolute_error(y_valid, y_preds))\n",
    "        r2_scores.append(r2_score(y_valid, y_preds))\n",
    "#         print('\\tMAE: ', mean_absolute_error(y_valid, y_preds))\n",
    "#         print('\\tR2: ', r2_score(y_valid, y_preds))\n",
    "\n",
    "    return np.mean(mae_scores), np.mean(r2_scores)"
   ]
  },
  {
   "cell_type": "code",
   "execution_count": 354,
   "metadata": {
    "scrolled": true
   },
   "outputs": [
    {
     "name": "stdout",
     "output_type": "stream",
     "text": [
      "Scores after adding a new feature \"adUpDays\":\n",
      "\tLinearRegression:\n",
      "\t\tMAE: 2431.462396109748, R2: 0.7219497305646022\n",
      "\tRandomForest:\n",
      "\t\tMAE: 1263.1251829278638, R2: 0.8800386628566995\n",
      "Scores after adding a new feature \"1d_count\":\n",
      "\tLinearRegression:\n",
      "\t\tMAE: 2462.472732251039, R2: 0.7183845025953097\n",
      "\tRandomForest:\n",
      "\t\tMAE: 1311.5863555877593, R2: 0.8746785186929233\n"
     ]
    }
   ],
   "source": [
    "for col in new_feats_train.columns:\n",
    "    X_train_new = pd.concat([X_train, new_feats_train[col]], axis=1)\n",
    "    mean_scores = cv_mean_scores(X_train_new, y_train, pipeline=['ohe', 'stdscale','lr'], \n",
    "                                 fillna_values = {'model': 'andere'})\n",
    "    print(f'Scores after adding a new feature \"{col}\":' )\n",
    "    print('\\tLinearRegression:')\n",
    "    print(f'\\t\\tMAE: {mean_scores[0]}, R2: {mean_scores[1]}')\n",
    "    mean_scores = cv_mean_scores(X_train_new, y_train, pipeline=['label', 'rf'],\n",
    "                                fillna_values = {'model': 'andere'})\n",
    "    print('\\tRandomForest:')\n",
    "    print(f'\\t\\tMAE: {mean_scores[0]}, R2: {mean_scores[1]}')"
   ]
  },
  {
   "cell_type": "code",
   "execution_count": 546,
   "metadata": {},
   "outputs": [],
   "source": [
    "X_train = pd.concat([X_train, new_feats_train['priceBracket']], axis=1)\n",
    "X_test = pd.concat([X_test, new_feats_test['priceBracket']], axis=1)"
   ]
  },
  {
   "cell_type": "markdown",
   "metadata": {},
   "source": [
    "As we can see **adUpDays** doesn't affect or even makes results worse, while **priceBracket** improve scores significantly. Random forest model looks better comparing with linear one again. Let's try to add second degree polynomial to our linear model and check the scores on cross validation. "
   ]
  },
  {
   "cell_type": "code",
   "execution_count": 483,
   "metadata": {},
   "outputs": [
    {
     "name": "stdout",
     "output_type": "stream",
     "text": [
      "LinearRegression:\n",
      "\tMAE: 1450.3845179664422, R2: 0.8801477318461514\n"
     ]
    }
   ],
   "source": [
    "mean_scores = cv_mean_scores(X_train, y_train, pipeline=['ohe', 'stdscale', 'poly', 'lr'],\n",
    "                            fillna_values = {'model': 'andere'})\n",
    "print('LinearRegression:')\n",
    "print(f'\\tMAE: {mean_scores[0]}, R2: {mean_scores[1]}')"
   ]
  },
  {
   "cell_type": "markdown",
   "metadata": {},
   "source": [
    "Polinomial features improve MAE score but it is still worse than RandomForest model shows.   "
   ]
  },
  {
   "cell_type": "markdown",
   "metadata": {},
   "source": [
    "Let's plot feature importances for our random forest model. As you can see from the graph below, the most important features for the random forest happened to be **priceBracket**, **vehicleType** and **model** ."
   ]
  },
  {
   "cell_type": "code",
   "execution_count": 547,
   "metadata": {},
   "outputs": [
    {
     "data": {
      "text/plain": [
       "RandomForestRegressor(bootstrap=True, ccp_alpha=0.0, criterion='mse',\n",
       "                      max_depth=None, max_features='auto', max_leaf_nodes=None,\n",
       "                      max_samples=None, min_impurity_decrease=0.0,\n",
       "                      min_impurity_split=None, min_samples_leaf=1,\n",
       "                      min_samples_split=2, min_weight_fraction_leaf=0.0,\n",
       "                      n_estimators=100, n_jobs=-1, oob_score=False,\n",
       "                      random_state=17, verbose=0, warm_start=False)"
      ]
     },
     "execution_count": 547,
     "metadata": {},
     "output_type": "execute_result"
    }
   ],
   "source": [
    "X_train_trans, X_test_trans, rf = pipeline_transform(X_train, X_test, pipeline=['label', 'rf'], \n",
    "                                             fillna_values={'model': 'andere'})\n",
    "rf.fit(X_train_trans, y_train)"
   ]
  },
  {
   "cell_type": "code",
   "execution_count": 548,
   "metadata": {},
   "outputs": [
    {
     "name": "stdout",
     "output_type": "stream",
     "text": [
      "RandomForestRegressor:\n",
      "\tMAE:  1016.5983930204176\n",
      "\tR2:  0.9403237998191756\n"
     ]
    }
   ],
   "source": [
    "y_preds_rf = rf.predict(X_test_trans)\n",
    "print('RandomForestRegressor:')\n",
    "print('\\tMAE: ', mean_absolute_error(y_test, y_preds_rf))\n",
    "print('\\tR2: ', r2_score(y_test, y_preds_rf))"
   ]
  },
  {
   "cell_type": "code",
   "execution_count": 549,
   "metadata": {},
   "outputs": [
    {
     "data": {
      "image/png": "[encoded data removed]",
      "text/plain": [
       "<Figure size 1008x432 with 1 Axes>"
      ]
     },
     "metadata": {
      "needs_background": "light"
     },
     "output_type": "display_data"
    }
   ],
   "source": [
    "features = X_train.columns\n",
    "importances = rf.feature_importances_\n",
    "num_to_plot = features.shape[0]\n",
    "indices = np.argsort(importances)[::-1][:num_to_plot]\n",
    " \n",
    "plt.figure(figsize=(14,6))\n",
    "plt.title('Feature impotances for a RandomForestRegressor model', size=15)\n",
    "bars = plt.bar(range(num_to_plot), importances[indices], align=\"center\")\n",
    "ticks = plt.xticks(range(num_to_plot), features.values[indices[:]], rotation=70, size=13)"
   ]
  },
  {
   "cell_type": "markdown",
   "metadata": {},
   "source": [
    "###  Validation curves"
   ]
  },
  {
   "cell_type": "markdown",
   "metadata": {},
   "source": [
    "Let's try to improve the result of a random forest. First, let's look at how validation curves behave when changing the main parameters.\n",
    "\n",
    "Let's start with the number of trees:"
   ]
  },
  {
   "cell_type": "code",
   "execution_count": 59,
   "metadata": {},
   "outputs": [],
   "source": [
    "from sklearn.model_selection import validation_curve, KFold\n",
    "kf = KFold(n_splits=5, shuffle=True, random_state=RANDOM_SEED)"
   ]
  },
  {
   "cell_type": "code",
   "execution_count": 60,
   "metadata": {},
   "outputs": [],
   "source": [
    "def valid_curves_plot(hyperparam, param_range):\n",
    "    param_range = param_range\n",
    "    train_scores, test_scores = validation_curve(RandomForestRegressor(random_state=RANDOM_SEED), \n",
    "                                X_train_new, y_train, param_name=hyperparam, param_range=param_range, \n",
    "                                cv=kf, n_jobs=-1, scoring='r2')\n",
    "\n",
    "    train_scores_mean = np.mean(train_scores, axis=1)\n",
    "    train_scores_std = np.std(train_scores, axis=1)\n",
    "    test_scores_mean = np.mean(test_scores, axis=1)\n",
    "    test_scores_std = np.std(test_scores, axis=1)\n",
    "    plt.figure(figsize=(9,6))\n",
    "    plt.title('Validation curves for a RandomForestRegressor model')\n",
    "    plt.xlabel(hyperparam)\n",
    "    plt.ylabel('R2')\n",
    "    plt.ylim(0.8, 1.0)\n",
    "    plt.fill_between(param_range, train_scores_mean - train_scores_std, \\\n",
    "                     train_scores_mean + train_scores_std, alpha=0.2, color=\"r\")\n",
    "    plt.plot(param_range, train_scores_mean, label='Training error', color=\"r\")\n",
    "    plt.fill_between(param_range, test_scores_mean - test_scores_std, \\\n",
    "                     test_scores_mean + test_scores_std, alpha=0.2, color=\"g\")\n",
    "    plt.plot(param_range, test_scores_mean, label='Validation error', color=\"g\")\n",
    "\n",
    "    plt.legend(loc=\"best\")\n",
    "    plt.xticks(param_range)\n",
    "    plt.show()"
   ]
  },
  {
   "cell_type": "code",
   "execution_count": 61,
   "metadata": {},
   "outputs": [
    {
     "data": {
      "image/png": "[encoded data removed]",
      "text/plain": [
       "<Figure size 648x432 with 1 Axes>"
      ]
     },
     "metadata": {
      "needs_background": "light"
     },
     "output_type": "display_data"
    },
    {
     "name": "stdout",
     "output_type": "stream",
     "text": [
      "CPU times: user 545 ms, sys: 373 ms, total: 919 ms\n",
      "Wall time: 31min 28s\n"
     ]
    }
   ],
   "source": [
    "%%time\n",
    "valid_curves_plot(hyperparam='n_estimators', param_range=[5, 10, 15, 20, 30, 50, 75, 100])"
   ]
  },
  {
   "cell_type": "markdown",
   "metadata": {},
   "source": [
    "As you can see, when you reach 30 trees, the accuracy of the model on the test goes to the asymptote. \n",
    "\n",
    "Let's see what regularization parameters to add to the model to prevent over-training.\n",
    "Let's see how the model behaves depending on the maximum depth parameter – `max_depth`."
   ]
  },
  {
   "cell_type": "code",
   "execution_count": 62,
   "metadata": {},
   "outputs": [
    {
     "data": {
      "image/png": "[encoded data removed]",
      "text/plain": [
       "<Figure size 648x432 with 1 Axes>"
      ]
     },
     "metadata": {
      "needs_background": "light"
     },
     "output_type": "display_data"
    },
    {
     "name": "stdout",
     "output_type": "stream",
     "text": [
      "CPU times: user 781 ms, sys: 467 ms, total: 1.25 s\n",
      "Wall time: 1h 18min 15s\n"
     ]
    }
   ],
   "source": [
    "%%time\n",
    "valid_curves_plot(hyperparam='max_depth', param_range=[3, 5, 7, 9, 11, 13, 15, 17, 20, 22, 24])"
   ]
  },
  {
   "cell_type": "markdown",
   "metadata": {},
   "source": [
    "As you can see, it makes no sense to build trees with a depth of more than 22, the quality on the test goes to the asymptote.<br / > \n",
    "<br / >\n",
    "Let's build validation curves for the parameter `min_samples_leaf` ."
   ]
  },
  {
   "cell_type": "code",
   "execution_count": 63,
   "metadata": {},
   "outputs": [
    {
     "data": {
      "image/png": "[encoded data removed]",
      "text/plain": [
       "<Figure size 648x432 with 1 Axes>"
      ]
     },
     "metadata": {
      "needs_background": "light"
     },
     "output_type": "display_data"
    },
    {
     "name": "stdout",
     "output_type": "stream",
     "text": [
      "CPU times: user 560 ms, sys: 294 ms, total: 854 ms\n",
      "Wall time: 1h 1min 25s\n"
     ]
    }
   ],
   "source": [
    "%%time\n",
    "valid_curves_plot(hyperparam='min_samples_leaf', param_range=[1, 3, 5, 7, 9, 11, 13])"
   ]
  },
  {
   "cell_type": "markdown",
   "metadata": {},
   "source": [
    "As we can see in the test, the maximum quality is achieved if the minimum number of objects in the sheet is 3. \n",
    "<br/>\n",
    "<br/>\n",
    "The parameter `max_features` determines the number of random features from the `n` source ones. For regression problems, we recommend using $\\frac{n}{3}$. Let's define the optimal parameter for our case."
   ]
  },
  {
   "cell_type": "code",
   "execution_count": 64,
   "metadata": {},
   "outputs": [
    {
     "data": {
      "image/png": "[encoded data removed]",
      "text/plain": [
       "<Figure size 648x432 with 1 Axes>"
      ]
     },
     "metadata": {
      "needs_background": "light"
     },
     "output_type": "display_data"
    },
    {
     "name": "stdout",
     "output_type": "stream",
     "text": [
      "CPU times: user 531 ms, sys: 340 ms, total: 872 ms\n",
      "Wall time: 47min 2s\n"
     ]
    }
   ],
   "source": [
    "%%time\n",
    "valid_curves_plot(hyperparam='max_features', param_range=[50, 100, 200, 300, 400, 500, 600, 700])"
   ]
  },
  {
   "cell_type": "markdown",
   "metadata": {},
   "source": [
    "Looks like **max_features** = 200 is the best choice."
   ]
  },
  {
   "cell_type": "code",
   "execution_count": 69,
   "metadata": {},
   "outputs": [
    {
     "data": {
      "text/plain": [
       "(205044, 761)"
      ]
     },
     "execution_count": 69,
     "metadata": {},
     "output_type": "execute_result"
    }
   ],
   "source": [
    "X_train.shape"
   ]
  },
  {
   "cell_type": "markdown",
   "metadata": {},
   "source": [
    "###  Cross validation and parameter tuning"
   ]
  },
  {
   "cell_type": "code",
   "execution_count": 65,
   "metadata": {},
   "outputs": [],
   "source": [
    "from sklearn.model_selection import GridSearchCV"
   ]
  },
  {
   "cell_type": "markdown",
   "metadata": {},
   "source": [
    "Now, let's identify the parameters for the tree using cross validation."
   ]
  },
  {
   "cell_type": "code",
   "execution_count": null,
   "metadata": {
    "scrolled": false
   },
   "outputs": [],
   "source": [
    "# We'll tune the maximum number of features used at each split, the minimum number of samples in a leaf and\n",
    "# the maximum depth\n",
    "parameters = {'max_features': [100,200, 300, 400, 500], \n",
    "              'min_samples_leaf': [1, 3, 5, 7], \n",
    "              'max_depth': [13, 15, 17, 20, 22, 24]}\n",
    "rfc = RandomForestRegressor(n_estimators=30, random_state=RANDOM_SEED, n_jobs=-1)\n",
    "gcv = GridSearchCV(rfc, parameters, n_jobs=-1, cv=kf)\n",
    "gcv.fit(X_train_new, y_train)"
   ]
  },
  {
   "cell_type": "markdown",
   "metadata": {},
   "source": [
    "Let's list the best parameters and the corresponding mean accuracy from cross-validation"
   ]
  },
  {
   "cell_type": "code",
   "execution_count": null,
   "metadata": {},
   "outputs": [],
   "source": [
    "gcv.best_params_, gcv.best_score_"
   ]
  },
  {
   "cell_type": "code",
   "execution_count": null,
   "metadata": {},
   "outputs": [],
   "source": [
    "gcv.best_estimator_"
   ]
  },
  {
   "cell_type": "markdown",
   "metadata": {},
   "source": [
    "### Predictions for test dataset"
   ]
  },
  {
   "cell_type": "markdown",
   "metadata": {},
   "source": [
    "Let's train a random forest with optimal hyperparameters and get predictions for the test set."
   ]
  },
  {
   "cell_type": "code",
   "execution_count": null,
   "metadata": {},
   "outputs": [],
   "source": [
    "%%time\n",
    "gcv.best_estimator_.fit(X_train_new, y_train)"
   ]
  },
  {
   "cell_type": "code",
   "execution_count": null,
   "metadata": {},
   "outputs": [],
   "source": [
    "y_preds = gcv.best_estimator_.predict(X_test_new)\n",
    "print('RandomForestRegressor:')\n",
    "print('\\tMAE: ', mean_absolute_error(y_test, y_preds))\n",
    "print('\\tR2: ', r2_score(y_test, y_preds))"
   ]
  },
  {
   "cell_type": "markdown",
   "metadata": {
    "collapsed": true
   },
   "source": [
    "Нам удалось выиграть \"аж\" 0.01 на обоих метриках."
   ]
  },
  {
   "cell_type": "markdown",
   "metadata": {},
   "source": [
    "###  Model estimation"
   ]
  },
  {
   "cell_type": "markdown",
   "metadata": {
    "collapsed": true
   },
   "source": [
    "Let's translate the target attribute back to kilometers and see how well our model worked on the test set. First, let's compare real and predicted prices for several examples."
   ]
  },
  {
   "cell_type": "code",
   "execution_count": null,
   "metadata": {},
   "outputs": [],
   "source": [
    "y_test_preds = pd.DataFrame({'y_true': np.exp(y_test) - 1,\n",
    "                           'y_preds': np.exp(y_preds) - 1})\n",
    "y_test_preds['y_true'] =round(y_test_preds['y_true'], 2)\n",
    "y_test_preds['y_preds'] =round(y_test_preds['y_preds'], 2)\n",
    "y_test_preds['diff'] = np.absolute(y_test_preds['y_true'] - y_test_preds['y_preds'])\n",
    "y_test_preds.head(20).T"
   ]
  },
  {
   "cell_type": "markdown",
   "metadata": {},
   "source": [
    "As you can see, the model is quite wrong in some cases, but in General, the patterns in the data are revealed and the result looks good. The chart below shows the dispersion of the real vs price . the predicted price relative to the identity line (red line). It is clearly seen that the higher the price, the more the model is mistaken and the tendency to underestimate is visible. This is obviously due to insufficient data on expensive cars."
   ]
  },
  {
   "cell_type": "code",
   "execution_count": null,
   "metadata": {},
   "outputs": [],
   "source": [
    "from ggplot import *\n",
    "\n",
    "ggplot(y_test_preds, aes(x='y_true',y='y_preds')) + \\\n",
    "    geom_point(color='blue')  + \\\n",
    "    xlim(-1e03,  1e+05) + ylim(-1e03, 1e+05) + \\\n",
    "    ggtitle(\"RandomForestRegressor model\") + \\\n",
    "    xlab(\"True price\") + ylab(\"Predicted price\") + \\\n",
    "    geom_abline(intercept=0, size=2, color='red')"
   ]
  },
  {
   "cell_type": "markdown",
   "metadata": {},
   "source": [
    "We also see some strong emissions at the very beginning. Looking at the data, it becomes clear that the model predicts a higher cost of cars billed for \"nothing\". Perhaps the sellers indicate a low price to attract buyers, or maybe they forgot to indicate that the car needs repair."
   ]
  },
  {
   "cell_type": "code",
   "execution_count": null,
   "metadata": {},
   "outputs": [],
   "source": [
    "y_test_preds.sort_values('y_true').head()"
   ]
  },
  {
   "cell_type": "markdown",
   "metadata": {},
   "source": [
    "###  Learning curves"
   ]
  },
  {
   "cell_type": "markdown",
   "metadata": {},
   "source": [
    "Let's build learning curves for the entire amount of data."
   ]
  },
  {
   "cell_type": "code",
   "execution_count": null,
   "metadata": {},
   "outputs": [],
   "source": [
    "from sklearn.model_selection import learning_curve"
   ]
  },
  {
   "cell_type": "code",
   "execution_count": null,
   "metadata": {},
   "outputs": [],
   "source": [
    "%%time\n",
    "\n",
    "plt.figure(figsize=(12, 8))\n",
    "plt.title(\"Learning curves for a RandomForestRegressor model\")\n",
    "plt.xlabel(\"Training examples\")\n",
    "plt.ylabel(\"MSE\")\n",
    "train_sizes, train_scores, test_scores = \\\n",
    "            learning_curve(RandomForestRegressor(max_depth=24,\n",
    "                                                max_features=200,\n",
    "                                                min_samples_leaf=1,\n",
    "                                                n_estimators=30, n_jobs=-1,\n",
    "                                                random_state=RANDOM_SEED), \n",
    "                            np.concatenate([X_train, X_test]),\n",
    "                            np.concatenate([y_train, y_test]),\n",
    "                            cv=kf,\n",
    "                            train_sizes=np.linspace(0.1, 1.0, 5),\n",
    "                            random_state=RANDOM_SEED)\n",
    "train_scores_mean = np.mean(train_scores, axis=1)\n",
    "train_scores_std = np.std(train_scores, axis=1)\n",
    "test_scores_mean = np.mean(test_scores, axis=1)\n",
    "test_scores_std = np.std(test_scores, axis=1)\n",
    "plt.grid()\n",
    "\n",
    "plt.fill_between(train_sizes, train_scores_mean - train_scores_std,\n",
    "                 train_scores_mean + train_scores_std, alpha=0.1,\n",
    "                 color=\"r\")\n",
    "plt.fill_between(train_sizes, test_scores_mean - test_scores_std,\n",
    "                 test_scores_mean + test_scores_std, alpha=0.1, color=\"g\")\n",
    "plt.plot(train_sizes, train_scores_mean, 'o-', color=\"r\",\n",
    "         label=\"Training error\")\n",
    "plt.plot(train_sizes, test_scores_mean, 'o-', color=\"g\",\n",
    "         label=\"Validation error\")\n",
    "plt.legend()"
   ]
  },
  {
   "cell_type": "markdown",
   "metadata": {},
   "source": [
    "Большое расстояние между кривыми указывает на переобучение. "
   ]
  },
  {
   "cell_type": "markdown",
   "metadata": {},
   "source": [
    "### Выводы "
   ]
  },
  {
   "cell_type": "markdown",
   "metadata": {},
   "source": [
    "The raw data contained many omissions and outliers. We needed to do a lot of processing and filtering. For categorical characteristics, we used one-hot encoding. The target attribute had a strongly skewed distribution, so we applied a logarithmic transformation to it.\n",
    "\n",
    "We compared the two models and came to the conclusion that a linear model with polynomial features gives MAE: 0.31 and $R^2$: 0.85, while a random forest \"out of the box\" immediately gave MAE: 0.28 and $R^2$: 0.87. Unfortunately, we were not able to synthesize features that improve this random forest result. Setting up hyperparameters resulted in a slight increase in quality: MAE: 0.27 and $R^2$: 0.88.\n",
    "\n",
    "Given that the random forest has shown good results, it would be remiss of me not to focus the boost on our data. I used the Python implementation of XGBoost, adjusted the parameters using hyperopt, but did not get any significant improvements, so I decided not to bother readers and omitted the calculations.\n",
    "\n",
    "Thus, we can conclude that the random forest worked well for this task.\n",
    "\n",
    "Based on the learning curves, we can draw a conclusion to improve the model.:\n",
    "- increase the sample size;\n",
    "- reduce the complexity of the model. This can be achieved if you use a smaller set of features or increase regularization (for example, you can reduce the depth of trees or increase the minimum number of objects in a sheet)."
   ]
  },
  {
   "cell_type": "code",
   "execution_count": 316,
   "metadata": {},
   "outputs": [],
   "source": [
    "df.index.set_names('index', inplace=True)"
   ]
  },
  {
   "cell_type": "code",
   "execution_count": 317,
   "metadata": {},
   "outputs": [
    {
     "data": {
      "text/html": [
       "<div>\n",
       "<style scoped>\n",
       "    .dataframe tbody tr th:only-of-type {\n",
       "        vertical-align: middle;\n",
       "    }\n",
       "\n",
       "    .dataframe tbody tr th {\n",
       "        vertical-align: top;\n",
       "    }\n",
       "\n",
       "    .dataframe thead th {\n",
       "        text-align: right;\n",
       "    }\n",
       "</style>\n",
       "<table border=\"1\" class=\"dataframe\">\n",
       "  <thead>\n",
       "    <tr style=\"text-align: right;\">\n",
       "      <th></th>\n",
       "      <th>dateCrawled</th>\n",
       "      <th>price</th>\n",
       "      <th>vehicleType</th>\n",
       "      <th>gearbox</th>\n",
       "      <th>powerPS</th>\n",
       "      <th>model</th>\n",
       "      <th>kilometer</th>\n",
       "      <th>fuelType</th>\n",
       "      <th>brand</th>\n",
       "      <th>notRepairedDamage</th>\n",
       "      <th>dateCreated</th>\n",
       "      <th>lastSeen</th>\n",
       "      <th>age</th>\n",
       "    </tr>\n",
       "    <tr>\n",
       "      <th>index</th>\n",
       "      <th></th>\n",
       "      <th></th>\n",
       "      <th></th>\n",
       "      <th></th>\n",
       "      <th></th>\n",
       "      <th></th>\n",
       "      <th></th>\n",
       "      <th></th>\n",
       "      <th></th>\n",
       "      <th></th>\n",
       "      <th></th>\n",
       "      <th></th>\n",
       "      <th></th>\n",
       "    </tr>\n",
       "  </thead>\n",
       "  <tbody>\n",
       "    <tr>\n",
       "      <th>4192</th>\n",
       "      <td>2016-03-23 14:42:46</td>\n",
       "      <td>6000</td>\n",
       "      <td>bus</td>\n",
       "      <td>automatik</td>\n",
       "      <td>200</td>\n",
       "      <td>andere</td>\n",
       "      <td>150000</td>\n",
       "      <td>benzin</td>\n",
       "      <td>chevrolet</td>\n",
       "      <td>0</td>\n",
       "      <td>2015-03-20</td>\n",
       "      <td>2016-04-07 03:45:01</td>\n",
       "      <td>20</td>\n",
       "    </tr>\n",
       "    <tr>\n",
       "      <th>90805</th>\n",
       "      <td>2016-04-02 19:47:40</td>\n",
       "      <td>14250</td>\n",
       "      <td>cabrio</td>\n",
       "      <td>manuell</td>\n",
       "      <td>163</td>\n",
       "      <td>slk</td>\n",
       "      <td>150000</td>\n",
       "      <td>benzin</td>\n",
       "      <td>mercedes_benz</td>\n",
       "      <td>0</td>\n",
       "      <td>2015-08-07</td>\n",
       "      <td>2016-04-07 09:15:23</td>\n",
       "      <td>10</td>\n",
       "    </tr>\n",
       "    <tr>\n",
       "      <th>183656</th>\n",
       "      <td>2016-03-08 17:57:45</td>\n",
       "      <td>5200</td>\n",
       "      <td>cabrio</td>\n",
       "      <td>manuell</td>\n",
       "      <td>109</td>\n",
       "      <td>2_reihe</td>\n",
       "      <td>80000</td>\n",
       "      <td>benzin</td>\n",
       "      <td>peugeot</td>\n",
       "      <td>0</td>\n",
       "      <td>2015-08-10</td>\n",
       "      <td>2016-04-05 20:46:54</td>\n",
       "      <td>9</td>\n",
       "    </tr>\n",
       "    <tr>\n",
       "      <th>231764</th>\n",
       "      <td>2016-03-15 01:56:49</td>\n",
       "      <td>600</td>\n",
       "      <td>kleinwagen</td>\n",
       "      <td>manuell</td>\n",
       "      <td>54</td>\n",
       "      <td>polo</td>\n",
       "      <td>150000</td>\n",
       "      <td>benzin</td>\n",
       "      <td>volkswagen</td>\n",
       "      <td>1</td>\n",
       "      <td>2015-09-04</td>\n",
       "      <td>2016-03-15 15:49:29</td>\n",
       "      <td>10</td>\n",
       "    </tr>\n",
       "    <tr>\n",
       "      <th>79265</th>\n",
       "      <td>2016-03-14 08:43:53</td>\n",
       "      <td>600</td>\n",
       "      <td>kleinwagen</td>\n",
       "      <td>manuell</td>\n",
       "      <td>54</td>\n",
       "      <td>polo</td>\n",
       "      <td>150000</td>\n",
       "      <td>benzin</td>\n",
       "      <td>volkswagen</td>\n",
       "      <td>1</td>\n",
       "      <td>2015-09-04</td>\n",
       "      <td>2016-03-15 14:16:58</td>\n",
       "      <td>10</td>\n",
       "    </tr>\n",
       "    <tr>\n",
       "      <th>...</th>\n",
       "      <td>...</td>\n",
       "      <td>...</td>\n",
       "      <td>...</td>\n",
       "      <td>...</td>\n",
       "      <td>...</td>\n",
       "      <td>...</td>\n",
       "      <td>...</td>\n",
       "      <td>...</td>\n",
       "      <td>...</td>\n",
       "      <td>...</td>\n",
       "      <td>...</td>\n",
       "      <td>...</td>\n",
       "      <td>...</td>\n",
       "    </tr>\n",
       "    <tr>\n",
       "      <th>73253</th>\n",
       "      <td>2016-04-07 02:36:21</td>\n",
       "      <td>850</td>\n",
       "      <td>kleinwagen</td>\n",
       "      <td>manuell</td>\n",
       "      <td>60</td>\n",
       "      <td>ypsilon</td>\n",
       "      <td>150000</td>\n",
       "      <td>benzin</td>\n",
       "      <td>lancia</td>\n",
       "      <td>0</td>\n",
       "      <td>2016-04-07</td>\n",
       "      <td>2016-04-07 02:36:21</td>\n",
       "      <td>18</td>\n",
       "    </tr>\n",
       "    <tr>\n",
       "      <th>23655</th>\n",
       "      <td>2016-04-07 12:25:38</td>\n",
       "      <td>4900</td>\n",
       "      <td>limousine</td>\n",
       "      <td>manuell</td>\n",
       "      <td>177</td>\n",
       "      <td>e_klasse</td>\n",
       "      <td>150000</td>\n",
       "      <td>benzin</td>\n",
       "      <td>mercedes_benz</td>\n",
       "      <td>0</td>\n",
       "      <td>2016-04-07</td>\n",
       "      <td>2016-04-07 12:25:38</td>\n",
       "      <td>13</td>\n",
       "    </tr>\n",
       "    <tr>\n",
       "      <th>364389</th>\n",
       "      <td>2016-04-07 14:06:57</td>\n",
       "      <td>1099</td>\n",
       "      <td>kleinwagen</td>\n",
       "      <td>manuell</td>\n",
       "      <td>68</td>\n",
       "      <td>2_reihe</td>\n",
       "      <td>150000</td>\n",
       "      <td>diesel</td>\n",
       "      <td>peugeot</td>\n",
       "      <td>0</td>\n",
       "      <td>2016-04-07</td>\n",
       "      <td>2016-04-07 14:06:57</td>\n",
       "      <td>13</td>\n",
       "    </tr>\n",
       "    <tr>\n",
       "      <th>138659</th>\n",
       "      <td>2016-04-07 11:36:19</td>\n",
       "      <td>8999</td>\n",
       "      <td>bus</td>\n",
       "      <td>manuell</td>\n",
       "      <td>114</td>\n",
       "      <td>vivaro</td>\n",
       "      <td>150000</td>\n",
       "      <td>diesel</td>\n",
       "      <td>opel</td>\n",
       "      <td>0</td>\n",
       "      <td>2016-04-07</td>\n",
       "      <td>2016-04-07 11:36:19</td>\n",
       "      <td>8</td>\n",
       "    </tr>\n",
       "    <tr>\n",
       "      <th>123573</th>\n",
       "      <td>2016-04-07 06:36:37</td>\n",
       "      <td>2350</td>\n",
       "      <td>kombi</td>\n",
       "      <td>automatik</td>\n",
       "      <td>220</td>\n",
       "      <td>a6</td>\n",
       "      <td>150000</td>\n",
       "      <td>andere</td>\n",
       "      <td>audi</td>\n",
       "      <td>1</td>\n",
       "      <td>2016-04-07</td>\n",
       "      <td>2016-04-07 06:36:37</td>\n",
       "      <td>14</td>\n",
       "    </tr>\n",
       "  </tbody>\n",
       "</table>\n",
       "<p>299598 rows × 13 columns</p>\n",
       "</div>"
      ],
      "text/plain": [
       "               dateCrawled  price vehicleType    gearbox  powerPS     model  \\\n",
       "index                                                                         \n",
       "4192   2016-03-23 14:42:46   6000         bus  automatik      200    andere   \n",
       "90805  2016-04-02 19:47:40  14250      cabrio    manuell      163       slk   \n",
       "183656 2016-03-08 17:57:45   5200      cabrio    manuell      109   2_reihe   \n",
       "231764 2016-03-15 01:56:49    600  kleinwagen    manuell       54      polo   \n",
       "79265  2016-03-14 08:43:53    600  kleinwagen    manuell       54      polo   \n",
       "...                    ...    ...         ...        ...      ...       ...   \n",
       "73253  2016-04-07 02:36:21    850  kleinwagen    manuell       60   ypsilon   \n",
       "23655  2016-04-07 12:25:38   4900   limousine    manuell      177  e_klasse   \n",
       "364389 2016-04-07 14:06:57   1099  kleinwagen    manuell       68   2_reihe   \n",
       "138659 2016-04-07 11:36:19   8999         bus    manuell      114    vivaro   \n",
       "123573 2016-04-07 06:36:37   2350       kombi  automatik      220        a6   \n",
       "\n",
       "        kilometer fuelType          brand  notRepairedDamage dateCreated  \\\n",
       "index                                                                      \n",
       "4192       150000   benzin      chevrolet                  0  2015-03-20   \n",
       "90805      150000   benzin  mercedes_benz                  0  2015-08-07   \n",
       "183656      80000   benzin        peugeot                  0  2015-08-10   \n",
       "231764     150000   benzin     volkswagen                  1  2015-09-04   \n",
       "79265      150000   benzin     volkswagen                  1  2015-09-04   \n",
       "...           ...      ...            ...                ...         ...   \n",
       "73253      150000   benzin         lancia                  0  2016-04-07   \n",
       "23655      150000   benzin  mercedes_benz                  0  2016-04-07   \n",
       "364389     150000   diesel        peugeot                  0  2016-04-07   \n",
       "138659     150000   diesel           opel                  0  2016-04-07   \n",
       "123573     150000   andere           audi                  1  2016-04-07   \n",
       "\n",
       "                  lastSeen  age  \n",
       "index                            \n",
       "4192   2016-04-07 03:45:01   20  \n",
       "90805  2016-04-07 09:15:23   10  \n",
       "183656 2016-04-05 20:46:54    9  \n",
       "231764 2016-03-15 15:49:29   10  \n",
       "79265  2016-03-15 14:16:58   10  \n",
       "...                    ...  ...  \n",
       "73253  2016-04-07 02:36:21   18  \n",
       "23655  2016-04-07 12:25:38   13  \n",
       "364389 2016-04-07 14:06:57   13  \n",
       "138659 2016-04-07 11:36:19    8  \n",
       "123573 2016-04-07 06:36:37   14  \n",
       "\n",
       "[299598 rows x 13 columns]"
      ]
     },
     "execution_count": 317,
     "metadata": {},
     "output_type": "execute_result"
    }
   ],
   "source": [
    "df"
   ]
  },
  {
   "cell_type": "code",
   "execution_count": 281,
   "metadata": {
    "scrolled": true
   },
   "outputs": [],
   "source": [
    "tmp = df[['dateCreated', 'model']].reset_index().set_index('dateCreated')\n",
    "tmp['count'] = 1"
   ]
  },
  {
   "cell_type": "code",
   "execution_count": 296,
   "metadata": {
    "scrolled": true
   },
   "outputs": [],
   "source": [
    "tmp_roll = tmp.groupby('model').rolling('30D')['count'].count().sort_index(level=['dateCreated','model'])"
   ]
  },
  {
   "cell_type": "code",
   "execution_count": 309,
   "metadata": {},
   "outputs": [],
   "source": [
    "result = tmp.drop('count', axis=1).set_index('model', append=True).sort_index(level=['dateCreated','model']) \n",
    "result['30d_count'] = tmp_roll.values"
   ]
  },
  {
   "cell_type": "code",
   "execution_count": 335,
   "metadata": {},
   "outputs": [
    {
     "data": {
      "text/html": [
       "<div>\n",
       "<style scoped>\n",
       "    .dataframe tbody tr th:only-of-type {\n",
       "        vertical-align: middle;\n",
       "    }\n",
       "\n",
       "    .dataframe tbody tr th {\n",
       "        vertical-align: top;\n",
       "    }\n",
       "\n",
       "    .dataframe thead th {\n",
       "        text-align: right;\n",
       "    }\n",
       "</style>\n",
       "<table border=\"1\" class=\"dataframe\">\n",
       "  <thead>\n",
       "    <tr style=\"text-align: right;\">\n",
       "      <th></th>\n",
       "      <th>dateCrawled</th>\n",
       "      <th>vehicleType</th>\n",
       "      <th>gearbox</th>\n",
       "      <th>powerPS</th>\n",
       "      <th>model</th>\n",
       "      <th>kilometer</th>\n",
       "      <th>fuelType</th>\n",
       "      <th>brand</th>\n",
       "      <th>notRepairedDamage</th>\n",
       "      <th>dateCreated</th>\n",
       "      <th>lastSeen</th>\n",
       "      <th>age</th>\n",
       "      <th>30d_count</th>\n",
       "    </tr>\n",
       "    <tr>\n",
       "      <th>index</th>\n",
       "      <th></th>\n",
       "      <th></th>\n",
       "      <th></th>\n",
       "      <th></th>\n",
       "      <th></th>\n",
       "      <th></th>\n",
       "      <th></th>\n",
       "      <th></th>\n",
       "      <th></th>\n",
       "      <th></th>\n",
       "      <th></th>\n",
       "      <th></th>\n",
       "      <th></th>\n",
       "    </tr>\n",
       "  </thead>\n",
       "  <tbody>\n",
       "    <tr>\n",
       "      <th>4192</th>\n",
       "      <td>2016-03-23 14:42:46</td>\n",
       "      <td>bus</td>\n",
       "      <td>automatik</td>\n",
       "      <td>200</td>\n",
       "      <td>andere</td>\n",
       "      <td>150000</td>\n",
       "      <td>benzin</td>\n",
       "      <td>chevrolet</td>\n",
       "      <td>0</td>\n",
       "      <td>2015-03-20</td>\n",
       "      <td>2016-04-07 03:45:01</td>\n",
       "      <td>20</td>\n",
       "      <td>1.0</td>\n",
       "    </tr>\n",
       "    <tr>\n",
       "      <th>90805</th>\n",
       "      <td>2016-04-02 19:47:40</td>\n",
       "      <td>cabrio</td>\n",
       "      <td>manuell</td>\n",
       "      <td>163</td>\n",
       "      <td>slk</td>\n",
       "      <td>150000</td>\n",
       "      <td>benzin</td>\n",
       "      <td>mercedes_benz</td>\n",
       "      <td>0</td>\n",
       "      <td>2015-08-07</td>\n",
       "      <td>2016-04-07 09:15:23</td>\n",
       "      <td>10</td>\n",
       "      <td>1.0</td>\n",
       "    </tr>\n",
       "    <tr>\n",
       "      <th>183656</th>\n",
       "      <td>2016-03-08 17:57:45</td>\n",
       "      <td>cabrio</td>\n",
       "      <td>manuell</td>\n",
       "      <td>109</td>\n",
       "      <td>2_reihe</td>\n",
       "      <td>80000</td>\n",
       "      <td>benzin</td>\n",
       "      <td>peugeot</td>\n",
       "      <td>0</td>\n",
       "      <td>2015-08-10</td>\n",
       "      <td>2016-04-05 20:46:54</td>\n",
       "      <td>9</td>\n",
       "      <td>1.0</td>\n",
       "    </tr>\n",
       "    <tr>\n",
       "      <th>231764</th>\n",
       "      <td>2016-03-15 01:56:49</td>\n",
       "      <td>kleinwagen</td>\n",
       "      <td>manuell</td>\n",
       "      <td>54</td>\n",
       "      <td>polo</td>\n",
       "      <td>150000</td>\n",
       "      <td>benzin</td>\n",
       "      <td>volkswagen</td>\n",
       "      <td>1</td>\n",
       "      <td>2015-09-04</td>\n",
       "      <td>2016-03-15 15:49:29</td>\n",
       "      <td>10</td>\n",
       "      <td>1.0</td>\n",
       "    </tr>\n",
       "    <tr>\n",
       "      <th>79265</th>\n",
       "      <td>2016-03-14 08:43:53</td>\n",
       "      <td>kleinwagen</td>\n",
       "      <td>manuell</td>\n",
       "      <td>54</td>\n",
       "      <td>polo</td>\n",
       "      <td>150000</td>\n",
       "      <td>benzin</td>\n",
       "      <td>volkswagen</td>\n",
       "      <td>1</td>\n",
       "      <td>2015-09-04</td>\n",
       "      <td>2016-03-15 14:16:58</td>\n",
       "      <td>10</td>\n",
       "      <td>2.0</td>\n",
       "    </tr>\n",
       "    <tr>\n",
       "      <th>...</th>\n",
       "      <td>...</td>\n",
       "      <td>...</td>\n",
       "      <td>...</td>\n",
       "      <td>...</td>\n",
       "      <td>...</td>\n",
       "      <td>...</td>\n",
       "      <td>...</td>\n",
       "      <td>...</td>\n",
       "      <td>...</td>\n",
       "      <td>...</td>\n",
       "      <td>...</td>\n",
       "      <td>...</td>\n",
       "      <td>...</td>\n",
       "    </tr>\n",
       "    <tr>\n",
       "      <th>73253</th>\n",
       "      <td>2016-04-07 02:36:21</td>\n",
       "      <td>kleinwagen</td>\n",
       "      <td>manuell</td>\n",
       "      <td>60</td>\n",
       "      <td>ypsilon</td>\n",
       "      <td>150000</td>\n",
       "      <td>benzin</td>\n",
       "      <td>lancia</td>\n",
       "      <td>0</td>\n",
       "      <td>2016-04-07</td>\n",
       "      <td>2016-04-07 02:36:21</td>\n",
       "      <td>18</td>\n",
       "      <td>154.0</td>\n",
       "    </tr>\n",
       "    <tr>\n",
       "      <th>23655</th>\n",
       "      <td>2016-04-07 12:25:38</td>\n",
       "      <td>limousine</td>\n",
       "      <td>manuell</td>\n",
       "      <td>177</td>\n",
       "      <td>e_klasse</td>\n",
       "      <td>150000</td>\n",
       "      <td>benzin</td>\n",
       "      <td>mercedes_benz</td>\n",
       "      <td>0</td>\n",
       "      <td>2016-04-07</td>\n",
       "      <td>2016-04-07 12:25:38</td>\n",
       "      <td>13</td>\n",
       "      <td>5842.0</td>\n",
       "    </tr>\n",
       "    <tr>\n",
       "      <th>364389</th>\n",
       "      <td>2016-04-07 14:06:57</td>\n",
       "      <td>kleinwagen</td>\n",
       "      <td>manuell</td>\n",
       "      <td>68</td>\n",
       "      <td>2_reihe</td>\n",
       "      <td>150000</td>\n",
       "      <td>diesel</td>\n",
       "      <td>peugeot</td>\n",
       "      <td>0</td>\n",
       "      <td>2016-04-07</td>\n",
       "      <td>2016-04-07 14:06:57</td>\n",
       "      <td>13</td>\n",
       "      <td>3841.0</td>\n",
       "    </tr>\n",
       "    <tr>\n",
       "      <th>138659</th>\n",
       "      <td>2016-04-07 11:36:19</td>\n",
       "      <td>bus</td>\n",
       "      <td>manuell</td>\n",
       "      <td>114</td>\n",
       "      <td>vivaro</td>\n",
       "      <td>150000</td>\n",
       "      <td>diesel</td>\n",
       "      <td>opel</td>\n",
       "      <td>0</td>\n",
       "      <td>2016-04-07</td>\n",
       "      <td>2016-04-07 11:36:19</td>\n",
       "      <td>8</td>\n",
       "      <td>257.0</td>\n",
       "    </tr>\n",
       "    <tr>\n",
       "      <th>123573</th>\n",
       "      <td>2016-04-07 06:36:37</td>\n",
       "      <td>kombi</td>\n",
       "      <td>automatik</td>\n",
       "      <td>220</td>\n",
       "      <td>a6</td>\n",
       "      <td>150000</td>\n",
       "      <td>andere</td>\n",
       "      <td>audi</td>\n",
       "      <td>1</td>\n",
       "      <td>2016-04-07</td>\n",
       "      <td>2016-04-07 06:36:37</td>\n",
       "      <td>14</td>\n",
       "      <td>4858.0</td>\n",
       "    </tr>\n",
       "  </tbody>\n",
       "</table>\n",
       "<p>299598 rows × 13 columns</p>\n",
       "</div>"
      ],
      "text/plain": [
       "               dateCrawled vehicleType    gearbox  powerPS     model  \\\n",
       "index                                                                  \n",
       "4192   2016-03-23 14:42:46         bus  automatik      200    andere   \n",
       "90805  2016-04-02 19:47:40      cabrio    manuell      163       slk   \n",
       "183656 2016-03-08 17:57:45      cabrio    manuell      109   2_reihe   \n",
       "231764 2016-03-15 01:56:49  kleinwagen    manuell       54      polo   \n",
       "79265  2016-03-14 08:43:53  kleinwagen    manuell       54      polo   \n",
       "...                    ...         ...        ...      ...       ...   \n",
       "73253  2016-04-07 02:36:21  kleinwagen    manuell       60   ypsilon   \n",
       "23655  2016-04-07 12:25:38   limousine    manuell      177  e_klasse   \n",
       "364389 2016-04-07 14:06:57  kleinwagen    manuell       68   2_reihe   \n",
       "138659 2016-04-07 11:36:19         bus    manuell      114    vivaro   \n",
       "123573 2016-04-07 06:36:37       kombi  automatik      220        a6   \n",
       "\n",
       "        kilometer fuelType          brand  notRepairedDamage dateCreated  \\\n",
       "index                                                                      \n",
       "4192       150000   benzin      chevrolet                  0  2015-03-20   \n",
       "90805      150000   benzin  mercedes_benz                  0  2015-08-07   \n",
       "183656      80000   benzin        peugeot                  0  2015-08-10   \n",
       "231764     150000   benzin     volkswagen                  1  2015-09-04   \n",
       "79265      150000   benzin     volkswagen                  1  2015-09-04   \n",
       "...           ...      ...            ...                ...         ...   \n",
       "73253      150000   benzin         lancia                  0  2016-04-07   \n",
       "23655      150000   benzin  mercedes_benz                  0  2016-04-07   \n",
       "364389     150000   diesel        peugeot                  0  2016-04-07   \n",
       "138659     150000   diesel           opel                  0  2016-04-07   \n",
       "123573     150000   andere           audi                  1  2016-04-07   \n",
       "\n",
       "                  lastSeen  age  30d_count  \n",
       "index                                       \n",
       "4192   2016-04-07 03:45:01   20        1.0  \n",
       "90805  2016-04-07 09:15:23   10        1.0  \n",
       "183656 2016-04-05 20:46:54    9        1.0  \n",
       "231764 2016-03-15 15:49:29   10        1.0  \n",
       "79265  2016-03-15 14:16:58   10        2.0  \n",
       "...                    ...  ...        ...  \n",
       "73253  2016-04-07 02:36:21   18      154.0  \n",
       "23655  2016-04-07 12:25:38   13     5842.0  \n",
       "364389 2016-04-07 14:06:57   13     3841.0  \n",
       "138659 2016-04-07 11:36:19    8      257.0  \n",
       "123573 2016-04-07 06:36:37   14     4858.0  \n",
       "\n",
       "[299598 rows x 13 columns]"
      ]
     },
     "execution_count": 335,
     "metadata": {},
     "output_type": "execute_result"
    }
   ],
   "source": [
    "X.index.set_names('index', inplace=True)\n",
    "tmp = X[['dateCreated', 'model']].reset_index().set_index('dateCreated')\n",
    "tmp['count'] = 1\n",
    "tmp_roll = tmp.groupby('model').rolling('30D')['count'].count().sort_index(level=['dateCreated','model'])\n",
    "tmp = tmp.drop('count', axis=1).set_index('model', append=True).sort_index(level=['dateCreated','model']) \n",
    "tmp['30d_count'] = tmp_roll.values\n",
    "\n",
    "X.merge(tmp, on='index').set_index('index')"
   ]
  },
  {
   "cell_type": "code",
   "execution_count": null,
   "metadata": {},
   "outputs": [],
   "source": []
  },
  {
   "cell_type": "code",
   "execution_count": 332,
   "metadata": {},
   "outputs": [
    {
     "data": {
      "text/html": [
       "<div>\n",
       "<style scoped>\n",
       "    .dataframe tbody tr th:only-of-type {\n",
       "        vertical-align: middle;\n",
       "    }\n",
       "\n",
       "    .dataframe tbody tr th {\n",
       "        vertical-align: top;\n",
       "    }\n",
       "\n",
       "    .dataframe thead th {\n",
       "        text-align: right;\n",
       "    }\n",
       "</style>\n",
       "<table border=\"1\" class=\"dataframe\">\n",
       "  <thead>\n",
       "    <tr style=\"text-align: right;\">\n",
       "      <th></th>\n",
       "      <th></th>\n",
       "      <th>index</th>\n",
       "      <th>30d_count</th>\n",
       "    </tr>\n",
       "    <tr>\n",
       "      <th>dateCreated</th>\n",
       "      <th>model</th>\n",
       "      <th></th>\n",
       "      <th></th>\n",
       "    </tr>\n",
       "  </thead>\n",
       "  <tbody>\n",
       "    <tr>\n",
       "      <th>2015-03-20</th>\n",
       "      <th>andere</th>\n",
       "      <td>4192</td>\n",
       "      <td>1.0</td>\n",
       "    </tr>\n",
       "    <tr>\n",
       "      <th>2015-08-07</th>\n",
       "      <th>slk</th>\n",
       "      <td>90805</td>\n",
       "      <td>1.0</td>\n",
       "    </tr>\n",
       "    <tr>\n",
       "      <th>2015-08-10</th>\n",
       "      <th>2_reihe</th>\n",
       "      <td>183656</td>\n",
       "      <td>1.0</td>\n",
       "    </tr>\n",
       "    <tr>\n",
       "      <th rowspan=\"2\" valign=\"top\">2015-09-04</th>\n",
       "      <th>polo</th>\n",
       "      <td>231764</td>\n",
       "      <td>1.0</td>\n",
       "    </tr>\n",
       "    <tr>\n",
       "      <th>polo</th>\n",
       "      <td>79265</td>\n",
       "      <td>2.0</td>\n",
       "    </tr>\n",
       "    <tr>\n",
       "      <th>...</th>\n",
       "      <th>...</th>\n",
       "      <td>...</td>\n",
       "      <td>...</td>\n",
       "    </tr>\n",
       "    <tr>\n",
       "      <th rowspan=\"5\" valign=\"top\">2016-04-07</th>\n",
       "      <th>yaris</th>\n",
       "      <td>358151</td>\n",
       "      <td>797.0</td>\n",
       "    </tr>\n",
       "    <tr>\n",
       "      <th>ypsilon</th>\n",
       "      <td>73253</td>\n",
       "      <td>154.0</td>\n",
       "    </tr>\n",
       "    <tr>\n",
       "      <th>z_reihe</th>\n",
       "      <td>204892</td>\n",
       "      <td>761.0</td>\n",
       "    </tr>\n",
       "    <tr>\n",
       "      <th>zafira</th>\n",
       "      <td>250725</td>\n",
       "      <td>2201.0</td>\n",
       "    </tr>\n",
       "    <tr>\n",
       "      <th>zafira</th>\n",
       "      <td>100275</td>\n",
       "      <td>2202.0</td>\n",
       "    </tr>\n",
       "  </tbody>\n",
       "</table>\n",
       "<p>299598 rows × 2 columns</p>\n",
       "</div>"
      ],
      "text/plain": [
       "                      index  30d_count\n",
       "dateCreated model                     \n",
       "2015-03-20  andere     4192        1.0\n",
       "2015-08-07  slk       90805        1.0\n",
       "2015-08-10  2_reihe  183656        1.0\n",
       "2015-09-04  polo     231764        1.0\n",
       "            polo      79265        2.0\n",
       "...                     ...        ...\n",
       "2016-04-07  yaris    358151      797.0\n",
       "            ypsilon   73253      154.0\n",
       "            z_reihe  204892      761.0\n",
       "            zafira   250725     2201.0\n",
       "            zafira   100275     2202.0\n",
       "\n",
       "[299598 rows x 2 columns]"
      ]
     },
     "execution_count": 332,
     "metadata": {},
     "output_type": "execute_result"
    }
   ],
   "source": [
    "result"
   ]
  },
  {
   "cell_type": "code",
   "execution_count": 326,
   "metadata": {},
   "outputs": [],
   "source": [
    "X_30d_count"
   ]
  },
  {
   "cell_type": "code",
   "execution_count": 311,
   "metadata": {},
   "outputs": [
    {
     "data": {
      "text/html": [
       "<div>\n",
       "<style scoped>\n",
       "    .dataframe tbody tr th:only-of-type {\n",
       "        vertical-align: middle;\n",
       "    }\n",
       "\n",
       "    .dataframe tbody tr th {\n",
       "        vertical-align: top;\n",
       "    }\n",
       "\n",
       "    .dataframe thead th {\n",
       "        text-align: right;\n",
       "    }\n",
       "</style>\n",
       "<table border=\"1\" class=\"dataframe\">\n",
       "  <thead>\n",
       "    <tr style=\"text-align: right;\">\n",
       "      <th></th>\n",
       "      <th>dateCreated</th>\n",
       "      <th>model</th>\n",
       "      <th>30d_count</th>\n",
       "    </tr>\n",
       "    <tr>\n",
       "      <th>index</th>\n",
       "      <th></th>\n",
       "      <th></th>\n",
       "      <th></th>\n",
       "    </tr>\n",
       "  </thead>\n",
       "  <tbody>\n",
       "    <tr>\n",
       "      <th>4192</th>\n",
       "      <td>2015-03-20</td>\n",
       "      <td>andere</td>\n",
       "      <td>1.0</td>\n",
       "    </tr>\n",
       "    <tr>\n",
       "      <th>90805</th>\n",
       "      <td>2015-08-07</td>\n",
       "      <td>slk</td>\n",
       "      <td>1.0</td>\n",
       "    </tr>\n",
       "    <tr>\n",
       "      <th>183656</th>\n",
       "      <td>2015-08-10</td>\n",
       "      <td>2_reihe</td>\n",
       "      <td>1.0</td>\n",
       "    </tr>\n",
       "    <tr>\n",
       "      <th>231764</th>\n",
       "      <td>2015-09-04</td>\n",
       "      <td>polo</td>\n",
       "      <td>1.0</td>\n",
       "    </tr>\n",
       "    <tr>\n",
       "      <th>79265</th>\n",
       "      <td>2015-09-04</td>\n",
       "      <td>polo</td>\n",
       "      <td>2.0</td>\n",
       "    </tr>\n",
       "    <tr>\n",
       "      <th>...</th>\n",
       "      <td>...</td>\n",
       "      <td>...</td>\n",
       "      <td>...</td>\n",
       "    </tr>\n",
       "    <tr>\n",
       "      <th>358151</th>\n",
       "      <td>2016-04-07</td>\n",
       "      <td>yaris</td>\n",
       "      <td>797.0</td>\n",
       "    </tr>\n",
       "    <tr>\n",
       "      <th>73253</th>\n",
       "      <td>2016-04-07</td>\n",
       "      <td>ypsilon</td>\n",
       "      <td>154.0</td>\n",
       "    </tr>\n",
       "    <tr>\n",
       "      <th>204892</th>\n",
       "      <td>2016-04-07</td>\n",
       "      <td>z_reihe</td>\n",
       "      <td>761.0</td>\n",
       "    </tr>\n",
       "    <tr>\n",
       "      <th>250725</th>\n",
       "      <td>2016-04-07</td>\n",
       "      <td>zafira</td>\n",
       "      <td>2201.0</td>\n",
       "    </tr>\n",
       "    <tr>\n",
       "      <th>100275</th>\n",
       "      <td>2016-04-07</td>\n",
       "      <td>zafira</td>\n",
       "      <td>2202.0</td>\n",
       "    </tr>\n",
       "  </tbody>\n",
       "</table>\n",
       "<p>299598 rows × 3 columns</p>\n",
       "</div>"
      ],
      "text/plain": [
       "       dateCreated    model  30d_count\n",
       "index                                 \n",
       "4192    2015-03-20   andere        1.0\n",
       "90805   2015-08-07      slk        1.0\n",
       "183656  2015-08-10  2_reihe        1.0\n",
       "231764  2015-09-04     polo        1.0\n",
       "79265   2015-09-04     polo        2.0\n",
       "...            ...      ...        ...\n",
       "358151  2016-04-07    yaris      797.0\n",
       "73253   2016-04-07  ypsilon      154.0\n",
       "204892  2016-04-07  z_reihe      761.0\n",
       "250725  2016-04-07   zafira     2201.0\n",
       "100275  2016-04-07   zafira     2202.0\n",
       "\n",
       "[299598 rows x 3 columns]"
      ]
     },
     "execution_count": 311,
     "metadata": {},
     "output_type": "execute_result"
    }
   ],
   "source": [
    "result.reset_index().set_index('index')"
   ]
  },
  {
   "cell_type": "code",
   "execution_count": 288,
   "metadata": {},
   "outputs": [
    {
     "data": {
      "text/plain": [
       "array([1.000e+00, 1.000e+00, 1.000e+00, ..., 7.610e+02, 2.201e+03,\n",
       "       2.202e+03])"
      ]
     },
     "execution_count": 288,
     "metadata": {},
     "output_type": "execute_result"
    }
   ],
   "source": [
    "tmp_roll.values"
   ]
  },
  {
   "cell_type": "code",
   "execution_count": 262,
   "metadata": {},
   "outputs": [
    {
     "data": {
      "text/html": [
       "<div>\n",
       "<style scoped>\n",
       "    .dataframe tbody tr th:only-of-type {\n",
       "        vertical-align: middle;\n",
       "    }\n",
       "\n",
       "    .dataframe tbody tr th {\n",
       "        vertical-align: top;\n",
       "    }\n",
       "\n",
       "    .dataframe thead th {\n",
       "        text-align: right;\n",
       "    }\n",
       "</style>\n",
       "<table border=\"1\" class=\"dataframe\">\n",
       "  <thead>\n",
       "    <tr style=\"text-align: right;\">\n",
       "      <th></th>\n",
       "      <th>dateCrawled</th>\n",
       "      <th>price</th>\n",
       "      <th>vehicleType</th>\n",
       "      <th>gearbox</th>\n",
       "      <th>powerPS</th>\n",
       "      <th>model</th>\n",
       "      <th>kilometer</th>\n",
       "      <th>fuelType</th>\n",
       "      <th>brand</th>\n",
       "      <th>notRepairedDamage</th>\n",
       "      <th>dateCreated</th>\n",
       "      <th>lastSeen</th>\n",
       "      <th>age</th>\n",
       "    </tr>\n",
       "  </thead>\n",
       "  <tbody>\n",
       "    <tr>\n",
       "      <th>173980</th>\n",
       "      <td>2016-03-12 14:47:10</td>\n",
       "      <td>19900</td>\n",
       "      <td>bus</td>\n",
       "      <td>automatik</td>\n",
       "      <td>170</td>\n",
       "      <td>zafira</td>\n",
       "      <td>30000</td>\n",
       "      <td>benzin</td>\n",
       "      <td>opel</td>\n",
       "      <td>0</td>\n",
       "      <td>2016-01-17</td>\n",
       "      <td>2016-04-07 07:45:31</td>\n",
       "      <td>3</td>\n",
       "    </tr>\n",
       "    <tr>\n",
       "      <th>163172</th>\n",
       "      <td>2016-03-05 20:44:15</td>\n",
       "      <td>6490</td>\n",
       "      <td>bus</td>\n",
       "      <td>automatik</td>\n",
       "      <td>140</td>\n",
       "      <td>zafira</td>\n",
       "      <td>150000</td>\n",
       "      <td>benzin</td>\n",
       "      <td>opel</td>\n",
       "      <td>0</td>\n",
       "      <td>2016-02-17</td>\n",
       "      <td>2016-04-01 20:16:25</td>\n",
       "      <td>8</td>\n",
       "    </tr>\n",
       "    <tr>\n",
       "      <th>199605</th>\n",
       "      <td>2016-03-06 01:51:15</td>\n",
       "      <td>10999</td>\n",
       "      <td>bus</td>\n",
       "      <td>automatik</td>\n",
       "      <td>150</td>\n",
       "      <td>zafira</td>\n",
       "      <td>100000</td>\n",
       "      <td>diesel</td>\n",
       "      <td>opel</td>\n",
       "      <td>0</td>\n",
       "      <td>2016-02-28</td>\n",
       "      <td>2016-04-05 18:44:28</td>\n",
       "      <td>8</td>\n",
       "    </tr>\n",
       "    <tr>\n",
       "      <th>63943</th>\n",
       "      <td>2016-03-05 14:17:34</td>\n",
       "      <td>4600</td>\n",
       "      <td>bus</td>\n",
       "      <td>manuell</td>\n",
       "      <td>101</td>\n",
       "      <td>zafira</td>\n",
       "      <td>70000</td>\n",
       "      <td>benzin</td>\n",
       "      <td>opel</td>\n",
       "      <td>0</td>\n",
       "      <td>2016-03-03</td>\n",
       "      <td>2016-03-21 23:16:11</td>\n",
       "      <td>14</td>\n",
       "    </tr>\n",
       "    <tr>\n",
       "      <th>310296</th>\n",
       "      <td>2016-03-05 14:15:50</td>\n",
       "      <td>1200</td>\n",
       "      <td>bus</td>\n",
       "      <td>automatik</td>\n",
       "      <td>147</td>\n",
       "      <td>zafira</td>\n",
       "      <td>150000</td>\n",
       "      <td>benzin</td>\n",
       "      <td>opel</td>\n",
       "      <td>0</td>\n",
       "      <td>2016-03-03</td>\n",
       "      <td>2016-03-07 14:46:17</td>\n",
       "      <td>14</td>\n",
       "    </tr>\n",
       "    <tr>\n",
       "      <th>...</th>\n",
       "      <td>...</td>\n",
       "      <td>...</td>\n",
       "      <td>...</td>\n",
       "      <td>...</td>\n",
       "      <td>...</td>\n",
       "      <td>...</td>\n",
       "      <td>...</td>\n",
       "      <td>...</td>\n",
       "      <td>...</td>\n",
       "      <td>...</td>\n",
       "      <td>...</td>\n",
       "      <td>...</td>\n",
       "      <td>...</td>\n",
       "    </tr>\n",
       "    <tr>\n",
       "      <th>262240</th>\n",
       "      <td>2016-04-06 18:25:32</td>\n",
       "      <td>2400</td>\n",
       "      <td>kombi</td>\n",
       "      <td>manuell</td>\n",
       "      <td>150</td>\n",
       "      <td>zafira</td>\n",
       "      <td>150000</td>\n",
       "      <td>diesel</td>\n",
       "      <td>opel</td>\n",
       "      <td>0</td>\n",
       "      <td>2016-04-06</td>\n",
       "      <td>2016-04-06 18:25:32</td>\n",
       "      <td>11</td>\n",
       "    </tr>\n",
       "    <tr>\n",
       "      <th>197348</th>\n",
       "      <td>2016-04-06 20:25:24</td>\n",
       "      <td>2400</td>\n",
       "      <td>kombi</td>\n",
       "      <td>manuell</td>\n",
       "      <td>150</td>\n",
       "      <td>zafira</td>\n",
       "      <td>150000</td>\n",
       "      <td>diesel</td>\n",
       "      <td>opel</td>\n",
       "      <td>0</td>\n",
       "      <td>2016-04-06</td>\n",
       "      <td>2016-04-06 20:25:24</td>\n",
       "      <td>11</td>\n",
       "    </tr>\n",
       "    <tr>\n",
       "      <th>142460</th>\n",
       "      <td>2016-04-06 08:25:37</td>\n",
       "      <td>1000</td>\n",
       "      <td>bus</td>\n",
       "      <td>manuell</td>\n",
       "      <td>101</td>\n",
       "      <td>zafira</td>\n",
       "      <td>150000</td>\n",
       "      <td>benzin</td>\n",
       "      <td>opel</td>\n",
       "      <td>1</td>\n",
       "      <td>2016-04-06</td>\n",
       "      <td>2016-04-06 09:25:20</td>\n",
       "      <td>12</td>\n",
       "    </tr>\n",
       "    <tr>\n",
       "      <th>100275</th>\n",
       "      <td>2016-04-07 11:25:33</td>\n",
       "      <td>8700</td>\n",
       "      <td>bus</td>\n",
       "      <td>automatik</td>\n",
       "      <td>150</td>\n",
       "      <td>zafira</td>\n",
       "      <td>150000</td>\n",
       "      <td>diesel</td>\n",
       "      <td>opel</td>\n",
       "      <td>0</td>\n",
       "      <td>2016-04-07</td>\n",
       "      <td>2016-04-07 11:25:33</td>\n",
       "      <td>6</td>\n",
       "    </tr>\n",
       "    <tr>\n",
       "      <th>250725</th>\n",
       "      <td>2016-04-07 13:25:39</td>\n",
       "      <td>2250</td>\n",
       "      <td>bus</td>\n",
       "      <td>manuell</td>\n",
       "      <td>101</td>\n",
       "      <td>zafira</td>\n",
       "      <td>150000</td>\n",
       "      <td>diesel</td>\n",
       "      <td>opel</td>\n",
       "      <td>0</td>\n",
       "      <td>2016-04-07</td>\n",
       "      <td>2016-04-07 13:25:39</td>\n",
       "      <td>14</td>\n",
       "    </tr>\n",
       "  </tbody>\n",
       "</table>\n",
       "<p>2499 rows × 13 columns</p>\n",
       "</div>"
      ],
      "text/plain": [
       "               dateCrawled  price vehicleType    gearbox  powerPS   model  \\\n",
       "173980 2016-03-12 14:47:10  19900         bus  automatik      170  zafira   \n",
       "163172 2016-03-05 20:44:15   6490         bus  automatik      140  zafira   \n",
       "199605 2016-03-06 01:51:15  10999         bus  automatik      150  zafira   \n",
       "63943  2016-03-05 14:17:34   4600         bus    manuell      101  zafira   \n",
       "310296 2016-03-05 14:15:50   1200         bus  automatik      147  zafira   \n",
       "...                    ...    ...         ...        ...      ...     ...   \n",
       "262240 2016-04-06 18:25:32   2400       kombi    manuell      150  zafira   \n",
       "197348 2016-04-06 20:25:24   2400       kombi    manuell      150  zafira   \n",
       "142460 2016-04-06 08:25:37   1000         bus    manuell      101  zafira   \n",
       "100275 2016-04-07 11:25:33   8700         bus  automatik      150  zafira   \n",
       "250725 2016-04-07 13:25:39   2250         bus    manuell      101  zafira   \n",
       "\n",
       "        kilometer fuelType brand  notRepairedDamage dateCreated  \\\n",
       "173980      30000   benzin  opel                  0  2016-01-17   \n",
       "163172     150000   benzin  opel                  0  2016-02-17   \n",
       "199605     100000   diesel  opel                  0  2016-02-28   \n",
       "63943       70000   benzin  opel                  0  2016-03-03   \n",
       "310296     150000   benzin  opel                  0  2016-03-03   \n",
       "...           ...      ...   ...                ...         ...   \n",
       "262240     150000   diesel  opel                  0  2016-04-06   \n",
       "197348     150000   diesel  opel                  0  2016-04-06   \n",
       "142460     150000   benzin  opel                  1  2016-04-06   \n",
       "100275     150000   diesel  opel                  0  2016-04-07   \n",
       "250725     150000   diesel  opel                  0  2016-04-07   \n",
       "\n",
       "                  lastSeen  age  \n",
       "173980 2016-04-07 07:45:31    3  \n",
       "163172 2016-04-01 20:16:25    8  \n",
       "199605 2016-04-05 18:44:28    8  \n",
       "63943  2016-03-21 23:16:11   14  \n",
       "310296 2016-03-07 14:46:17   14  \n",
       "...                    ...  ...  \n",
       "262240 2016-04-06 18:25:32   11  \n",
       "197348 2016-04-06 20:25:24   11  \n",
       "142460 2016-04-06 09:25:20   12  \n",
       "100275 2016-04-07 11:25:33    6  \n",
       "250725 2016-04-07 13:25:39   14  \n",
       "\n",
       "[2499 rows x 13 columns]"
      ]
     },
     "execution_count": 262,
     "metadata": {},
     "output_type": "execute_result"
    }
   ],
   "source": [
    "df[df['model'] == 'zafira']"
   ]
  },
  {
   "cell_type": "code",
   "execution_count": 336,
   "metadata": {},
   "outputs": [
    {
     "data": {
      "text/html": [
       "<div>\n",
       "<style scoped>\n",
       "    .dataframe tbody tr th:only-of-type {\n",
       "        vertical-align: middle;\n",
       "    }\n",
       "\n",
       "    .dataframe tbody tr th {\n",
       "        vertical-align: top;\n",
       "    }\n",
       "\n",
       "    .dataframe thead th {\n",
       "        text-align: right;\n",
       "    }\n",
       "</style>\n",
       "<table border=\"1\" class=\"dataframe\">\n",
       "  <thead>\n",
       "    <tr style=\"text-align: right;\">\n",
       "      <th></th>\n",
       "      <th>dateCrawled</th>\n",
       "      <th>price</th>\n",
       "      <th>vehicleType</th>\n",
       "      <th>gearbox</th>\n",
       "      <th>powerPS</th>\n",
       "      <th>model</th>\n",
       "      <th>kilometer</th>\n",
       "      <th>fuelType</th>\n",
       "      <th>brand</th>\n",
       "      <th>notRepairedDamage</th>\n",
       "      <th>dateCreated</th>\n",
       "      <th>lastSeen</th>\n",
       "      <th>age</th>\n",
       "    </tr>\n",
       "    <tr>\n",
       "      <th>index</th>\n",
       "      <th></th>\n",
       "      <th></th>\n",
       "      <th></th>\n",
       "      <th></th>\n",
       "      <th></th>\n",
       "      <th></th>\n",
       "      <th></th>\n",
       "      <th></th>\n",
       "      <th></th>\n",
       "      <th></th>\n",
       "      <th></th>\n",
       "      <th></th>\n",
       "      <th></th>\n",
       "    </tr>\n",
       "  </thead>\n",
       "  <tbody>\n",
       "    <tr>\n",
       "      <th>151362</th>\n",
       "      <td>2016-03-09 08:36:16</td>\n",
       "      <td>21500</td>\n",
       "      <td>limousine</td>\n",
       "      <td>automatik</td>\n",
       "      <td>387</td>\n",
       "      <td>e_klasse</td>\n",
       "      <td>150000</td>\n",
       "      <td>benzin</td>\n",
       "      <td>mercedes_benz</td>\n",
       "      <td>0</td>\n",
       "      <td>2016-03-09</td>\n",
       "      <td>2016-04-07 14:32:47</td>\n",
       "      <td>6</td>\n",
       "    </tr>\n",
       "    <tr>\n",
       "      <th>166364</th>\n",
       "      <td>2016-03-09 14:49:46</td>\n",
       "      <td>18700</td>\n",
       "      <td>limousine</td>\n",
       "      <td>automatik</td>\n",
       "      <td>170</td>\n",
       "      <td>e_klasse</td>\n",
       "      <td>125000</td>\n",
       "      <td>diesel</td>\n",
       "      <td>mercedes_benz</td>\n",
       "      <td>0</td>\n",
       "      <td>2016-03-09</td>\n",
       "      <td>2016-03-10 10:45:22</td>\n",
       "      <td>6</td>\n",
       "    </tr>\n",
       "    <tr>\n",
       "      <th>217974</th>\n",
       "      <td>2016-03-09 13:46:45</td>\n",
       "      <td>1800</td>\n",
       "      <td>kombi</td>\n",
       "      <td>automatik</td>\n",
       "      <td>170</td>\n",
       "      <td>e_klasse</td>\n",
       "      <td>150000</td>\n",
       "      <td>benzin</td>\n",
       "      <td>mercedes_benz</td>\n",
       "      <td>0</td>\n",
       "      <td>2016-03-09</td>\n",
       "      <td>2016-03-11 08:16:42</td>\n",
       "      <td>16</td>\n",
       "    </tr>\n",
       "    <tr>\n",
       "      <th>150913</th>\n",
       "      <td>2016-03-09 19:43:53</td>\n",
       "      <td>7999</td>\n",
       "      <td>limousine</td>\n",
       "      <td>automatik</td>\n",
       "      <td>306</td>\n",
       "      <td>e_klasse</td>\n",
       "      <td>150000</td>\n",
       "      <td>benzin</td>\n",
       "      <td>mercedes_benz</td>\n",
       "      <td>0</td>\n",
       "      <td>2016-03-09</td>\n",
       "      <td>2016-03-23 13:17:18</td>\n",
       "      <td>13</td>\n",
       "    </tr>\n",
       "    <tr>\n",
       "      <th>150592</th>\n",
       "      <td>2016-03-09 11:57:14</td>\n",
       "      <td>5000</td>\n",
       "      <td>limousine</td>\n",
       "      <td>manuell</td>\n",
       "      <td>177</td>\n",
       "      <td>e_klasse</td>\n",
       "      <td>150000</td>\n",
       "      <td>benzin</td>\n",
       "      <td>mercedes_benz</td>\n",
       "      <td>0</td>\n",
       "      <td>2016-03-09</td>\n",
       "      <td>2016-04-05 19:47:50</td>\n",
       "      <td>13</td>\n",
       "    </tr>\n",
       "    <tr>\n",
       "      <th>...</th>\n",
       "      <td>...</td>\n",
       "      <td>...</td>\n",
       "      <td>...</td>\n",
       "      <td>...</td>\n",
       "      <td>...</td>\n",
       "      <td>...</td>\n",
       "      <td>...</td>\n",
       "      <td>...</td>\n",
       "      <td>...</td>\n",
       "      <td>...</td>\n",
       "      <td>...</td>\n",
       "      <td>...</td>\n",
       "      <td>...</td>\n",
       "    </tr>\n",
       "    <tr>\n",
       "      <th>360585</th>\n",
       "      <td>2016-04-07 14:29:54</td>\n",
       "      <td>6500</td>\n",
       "      <td>limousine</td>\n",
       "      <td>automatik</td>\n",
       "      <td>177</td>\n",
       "      <td>e_klasse</td>\n",
       "      <td>150000</td>\n",
       "      <td>diesel</td>\n",
       "      <td>mercedes_benz</td>\n",
       "      <td>0</td>\n",
       "      <td>2016-04-07</td>\n",
       "      <td>2016-04-07 14:29:54</td>\n",
       "      <td>13</td>\n",
       "    </tr>\n",
       "    <tr>\n",
       "      <th>34534</th>\n",
       "      <td>2016-04-07 13:06:36</td>\n",
       "      <td>4900</td>\n",
       "      <td>limousine</td>\n",
       "      <td>manuell</td>\n",
       "      <td>177</td>\n",
       "      <td>e_klasse</td>\n",
       "      <td>150000</td>\n",
       "      <td>benzin</td>\n",
       "      <td>mercedes_benz</td>\n",
       "      <td>0</td>\n",
       "      <td>2016-04-07</td>\n",
       "      <td>2016-04-07 13:25:23</td>\n",
       "      <td>13</td>\n",
       "    </tr>\n",
       "    <tr>\n",
       "      <th>204756</th>\n",
       "      <td>2016-04-07 01:36:37</td>\n",
       "      <td>13800</td>\n",
       "      <td>limousine</td>\n",
       "      <td>automatik</td>\n",
       "      <td>224</td>\n",
       "      <td>e_klasse</td>\n",
       "      <td>150000</td>\n",
       "      <td>diesel</td>\n",
       "      <td>mercedes_benz</td>\n",
       "      <td>0</td>\n",
       "      <td>2016-04-07</td>\n",
       "      <td>2016-04-07 01:36:37</td>\n",
       "      <td>9</td>\n",
       "    </tr>\n",
       "    <tr>\n",
       "      <th>105562</th>\n",
       "      <td>2016-04-07 01:36:21</td>\n",
       "      <td>9999</td>\n",
       "      <td>kombi</td>\n",
       "      <td>automatik</td>\n",
       "      <td>224</td>\n",
       "      <td>e_klasse</td>\n",
       "      <td>150000</td>\n",
       "      <td>andere</td>\n",
       "      <td>mercedes_benz</td>\n",
       "      <td>0</td>\n",
       "      <td>2016-04-07</td>\n",
       "      <td>2016-04-07 01:36:21</td>\n",
       "      <td>10</td>\n",
       "    </tr>\n",
       "    <tr>\n",
       "      <th>23655</th>\n",
       "      <td>2016-04-07 12:25:38</td>\n",
       "      <td>4900</td>\n",
       "      <td>limousine</td>\n",
       "      <td>manuell</td>\n",
       "      <td>177</td>\n",
       "      <td>e_klasse</td>\n",
       "      <td>150000</td>\n",
       "      <td>benzin</td>\n",
       "      <td>mercedes_benz</td>\n",
       "      <td>0</td>\n",
       "      <td>2016-04-07</td>\n",
       "      <td>2016-04-07 12:25:38</td>\n",
       "      <td>13</td>\n",
       "    </tr>\n",
       "  </tbody>\n",
       "</table>\n",
       "<p>5842 rows × 13 columns</p>\n",
       "</div>"
      ],
      "text/plain": [
       "               dateCrawled  price vehicleType    gearbox  powerPS     model  \\\n",
       "index                                                                         \n",
       "151362 2016-03-09 08:36:16  21500   limousine  automatik      387  e_klasse   \n",
       "166364 2016-03-09 14:49:46  18700   limousine  automatik      170  e_klasse   \n",
       "217974 2016-03-09 13:46:45   1800       kombi  automatik      170  e_klasse   \n",
       "150913 2016-03-09 19:43:53   7999   limousine  automatik      306  e_klasse   \n",
       "150592 2016-03-09 11:57:14   5000   limousine    manuell      177  e_klasse   \n",
       "...                    ...    ...         ...        ...      ...       ...   \n",
       "360585 2016-04-07 14:29:54   6500   limousine  automatik      177  e_klasse   \n",
       "34534  2016-04-07 13:06:36   4900   limousine    manuell      177  e_klasse   \n",
       "204756 2016-04-07 01:36:37  13800   limousine  automatik      224  e_klasse   \n",
       "105562 2016-04-07 01:36:21   9999       kombi  automatik      224  e_klasse   \n",
       "23655  2016-04-07 12:25:38   4900   limousine    manuell      177  e_klasse   \n",
       "\n",
       "        kilometer fuelType          brand  notRepairedDamage dateCreated  \\\n",
       "index                                                                      \n",
       "151362     150000   benzin  mercedes_benz                  0  2016-03-09   \n",
       "166364     125000   diesel  mercedes_benz                  0  2016-03-09   \n",
       "217974     150000   benzin  mercedes_benz                  0  2016-03-09   \n",
       "150913     150000   benzin  mercedes_benz                  0  2016-03-09   \n",
       "150592     150000   benzin  mercedes_benz                  0  2016-03-09   \n",
       "...           ...      ...            ...                ...         ...   \n",
       "360585     150000   diesel  mercedes_benz                  0  2016-04-07   \n",
       "34534      150000   benzin  mercedes_benz                  0  2016-04-07   \n",
       "204756     150000   diesel  mercedes_benz                  0  2016-04-07   \n",
       "105562     150000   andere  mercedes_benz                  0  2016-04-07   \n",
       "23655      150000   benzin  mercedes_benz                  0  2016-04-07   \n",
       "\n",
       "                  lastSeen  age  \n",
       "index                            \n",
       "151362 2016-04-07 14:32:47    6  \n",
       "166364 2016-03-10 10:45:22    6  \n",
       "217974 2016-03-11 08:16:42   16  \n",
       "150913 2016-03-23 13:17:18   13  \n",
       "150592 2016-04-05 19:47:50   13  \n",
       "...                    ...  ...  \n",
       "360585 2016-04-07 14:29:54   13  \n",
       "34534  2016-04-07 13:25:23   13  \n",
       "204756 2016-04-07 01:36:37    9  \n",
       "105562 2016-04-07 01:36:21   10  \n",
       "23655  2016-04-07 12:25:38   13  \n",
       "\n",
       "[5842 rows x 13 columns]"
      ]
     },
     "execution_count": 336,
     "metadata": {},
     "output_type": "execute_result"
    }
   ],
   "source": [
    "df[(df['model']=='e_klasse') & (df['dateCreated']<=datetime(2016, 4, 7)) & \\\n",
    "       (df['dateCreated']>datetime(2016, 4, 7)-timedelta(30))]"
   ]
  },
  {
   "cell_type": "code",
   "execution_count": 182,
   "metadata": {},
   "outputs": [
    {
     "data": {
      "text/plain": [
       "datetime.datetime(2016, 4, 7, 0, 0)"
      ]
     },
     "execution_count": 182,
     "metadata": {},
     "output_type": "execute_result"
    }
   ],
   "source": [
    "datetime(2016, 4, 7)"
   ]
  },
  {
   "cell_type": "code",
   "execution_count": null,
   "metadata": {},
   "outputs": [],
   "source": []
  },
  {
   "cell_type": "code",
   "execution_count": 179,
   "metadata": {},
   "outputs": [
    {
     "data": {
      "text/plain": [
       "4192     2015-03-20\n",
       "90805    2015-08-07\n",
       "183656   2015-08-10\n",
       "231764   2015-09-04\n",
       "79265    2015-09-04\n",
       "Name: dateCreated, dtype: datetime64[ns]"
      ]
     },
     "execution_count": 179,
     "metadata": {},
     "output_type": "execute_result"
    }
   ],
   "source": [
    "from datetime import timedelta, datetime, date\n",
    "df.iloc[:5]['dateCreated']"
   ]
  },
  {
   "cell_type": "code",
   "execution_count": 168,
   "metadata": {},
   "outputs": [
    {
     "data": {
      "text/plain": [
       "4192     2015-02-18\n",
       "90805    2015-07-08\n",
       "183656   2015-07-11\n",
       "231764   2015-08-05\n",
       "79265    2015-08-05\n",
       "Name: dateCreated, dtype: datetime64[ns]"
      ]
     },
     "execution_count": 168,
     "metadata": {},
     "output_type": "execute_result"
    }
   ],
   "source": [
    "df.iloc[:5]['dateCreated'] - timedelta(30)"
   ]
  },
  {
   "cell_type": "code",
   "execution_count": null,
   "metadata": {},
   "outputs": [],
   "source": []
  }
 ],
 "metadata": {
  "kernelspec": {
   "display_name": "Python 3",
   "language": "python",
   "name": "python3"
  },
  "language_info": {
   "codemirror_mode": {
    "name": "ipython",
    "version": 3
   },
   "file_extension": ".py",
   "mimetype": "text/x-python",
   "name": "python",
   "nbconvert_exporter": "python",
   "pygments_lexer": "ipython3",
   "version": "3.7.4"
  },
  "widgets": {
   "state": {},
   "version": "1.1.2"
  }
 },
 "nbformat": 4,
 "nbformat_minor": 1
}
